{
 "cells": [
  {
   "cell_type": "code",
   "execution_count": 8,
   "id": "athletic-astronomy",
   "metadata": {},
   "outputs": [],
   "source": [
    "# Import packages\n",
    "from sqlalchemy import create_engine\n",
    "import pandas as pd"
   ]
  },
  {
   "cell_type": "code",
   "execution_count": 2,
   "id": "asian-nicaragua",
   "metadata": {},
   "outputs": [],
   "source": [
    "# Create engine: engine\n",
    "engine = create_engine('sqlite:///sqlite_db_pythonsqlite.db')"
   ]
  },
  {
   "cell_type": "markdown",
   "id": "broken-yellow",
   "metadata": {},
   "source": [
    "**Q10:** Produce a list of facilities with a total revenue less than 1000.\n",
    "The output of facility name and total revenue, sorted by revenue. Remember\n",
    "that there's a different cost for guests and members!"
   ]
  },
  {
   "cell_type": "code",
   "execution_count": 41,
   "id": "forty-integer",
   "metadata": {},
   "outputs": [
    {
     "name": "stdout",
     "output_type": "stream",
     "text": [
      "SELECT memberrevenue.name as name, (guestrevenue.revenue + memberrevenue.revenue) as revenue FROM (SELECT f.name, (f.guestcost * bg.slots) as revenue FROM Facilities as f,  (SELECT facid, sum(slots) as slots FROM Bookings WHERE memid = 0 GROUP BY facid) as bg WHERE f.facid = bg.facid) as guestrevenue, (SELECT f.name, (f.membercost * bm.slots) as revenue FROM Facilities as f,  (SELECT facid, sum(slots) as slots FROM Bookings WHERE memid != 0 GROUP BY facid) as bm WHERE f.facid = bm.facid) as memberrevenue WHERE guestrevenue.name = memberrevenue.name AND (guestrevenue.revenue + memberrevenue.revenue) < 1000 ORDER BY revenue \n"
     ]
    }
   ],
   "source": [
    "sql_query = \"\"\n",
    "sql_query += \"SELECT memberrevenue.name as name, (guestrevenue.revenue + memberrevenue.revenue) as revenue \"\n",
    "sql_query += \"FROM (SELECT f.name, (f.guestcost * bg.slots) as revenue \"\n",
    "sql_query +=       \"FROM Facilities as f,  \"\n",
    "sql_query +=           \"(SELECT facid, sum(slots) as slots \"\n",
    "sql_query +=            \"FROM Bookings \"\n",
    "sql_query +=            \"WHERE memid = 0 \"\n",
    "sql_query +=            \"GROUP BY facid) as bg \"\n",
    "sql_query +=       \"WHERE f.facid = bg.facid) as guestrevenue, \"\n",
    "sql_query +=      \"(SELECT f.name, (f.membercost * bm.slots) as revenue \"\n",
    "sql_query +=       \"FROM Facilities as f,  \"\n",
    "sql_query +=           \"(SELECT facid, sum(slots) as slots \"\n",
    "sql_query +=            \"FROM Bookings \"\n",
    "sql_query +=            \"WHERE memid != 0 \"\n",
    "sql_query +=            \"GROUP BY facid) as bm \"\n",
    "sql_query +=       \"WHERE f.facid = bm.facid) as memberrevenue \"\n",
    "sql_query += \"WHERE guestrevenue.name = memberrevenue.name \"\n",
    "sql_query += \"AND (guestrevenue.revenue + memberrevenue.revenue) < 1000 \"\n",
    "sql_query += \"ORDER BY revenue \"\n",
    "print(sql_query)"
   ]
  },
  {
   "cell_type": "code",
   "execution_count": 42,
   "id": "norman-shock",
   "metadata": {},
   "outputs": [
    {
     "name": "stdout",
     "output_type": "stream",
     "text": [
      "            name  revenue\n",
      "0   Table Tennis      180\n",
      "1  Snooker Table      240\n",
      "2     Pool Table      270\n"
     ]
    }
   ],
   "source": [
    "with engine.connect() as con:\n",
    "    rs = con.execute(text(sql_query))\n",
    "    df = pd.DataFrame(rs.fetchall())\n",
    "    df.columns = rs.keys()\n",
    "\n",
    "print(df)"
   ]
  },
  {
   "cell_type": "markdown",
   "id": "standing-journey",
   "metadata": {},
   "source": [
    "A second query for the same question was created here:"
   ]
  },
  {
   "cell_type": "code",
   "execution_count": 39,
   "id": "permanent-black",
   "metadata": {},
   "outputs": [
    {
     "name": "stdout",
     "output_type": "stream",
     "text": [
      "SELECT f.name, (f.membercost * b.memberslots + f.guestcost * b.guestslots) as revenue FROM Facilities as f,  (SELECT facid,  (SELECT sum(slots) FROM Bookings WHERE facid = inb.facid and memid != 0) AS memberslots, (SELECT sum(slots) FROM Bookings WHERE facid = inb.facid and memid = 0) AS guestslots FROM Bookings as inb GROUP BY facid) as b WHERE f.facid = b.facid AND (f.membercost * b.memberslots + f.guestcost * b.guestslots) < 1000 ORDER BY revenue \n"
     ]
    }
   ],
   "source": [
    "sql_query = \"\"\n",
    "sql_query += \"SELECT f.name, (f.membercost * b.memberslots + f.guestcost * b.guestslots) as revenue \"\n",
    "sql_query += \"FROM Facilities as f,  \"\n",
    "sql_query +=     \"(SELECT facid,  \"\n",
    "sql_query +=            \"(SELECT sum(slots) FROM Bookings WHERE facid = inb.facid and memid != 0) AS memberslots, \"\n",
    "sql_query +=            \"(SELECT sum(slots) FROM Bookings WHERE facid = inb.facid and memid = 0) AS guestslots \"\n",
    "sql_query +=      \"FROM Bookings as inb \"\n",
    "sql_query +=      \"GROUP BY facid) as b \"\n",
    "sql_query += \"WHERE f.facid = b.facid \"\n",
    "sql_query += \"AND (f.membercost * b.memberslots + f.guestcost * b.guestslots) < 1000 \"\n",
    "sql_query += \"ORDER BY revenue \"\n",
    "print(sql_query)"
   ]
  },
  {
   "cell_type": "code",
   "execution_count": 40,
   "id": "bibliographic-legislature",
   "metadata": {},
   "outputs": [
    {
     "name": "stdout",
     "output_type": "stream",
     "text": [
      "            name  revenue\n",
      "0   Table Tennis      180\n",
      "1  Snooker Table      240\n",
      "2     Pool Table      270\n"
     ]
    }
   ],
   "source": [
    "with engine.connect() as con:\n",
    "    rs = con.execute(text(sql_query))\n",
    "    df = pd.DataFrame(rs.fetchall())\n",
    "    df.columns = rs.keys()\n",
    "\n",
    "print(df)"
   ]
  },
  {
   "cell_type": "markdown",
   "id": "spanish-restoration",
   "metadata": {},
   "source": [
    "**Q11:** Produce a report of members and who recommended them in alphabetic surname,firstname order"
   ]
  },
  {
   "cell_type": "code",
   "execution_count": 13,
   "id": "threaded-coordination",
   "metadata": {},
   "outputs": [
    {
     "name": "stdout",
     "output_type": "stream",
     "text": [
      "SELECT m.surname as member_surname, m.firstname as member_firstname, r.surname as recommended_surname, r.firstname as recommended_firstname FROM Members m LEFT JOIN Members r ON r.memid = m.recommendedby WHERE m.memid != 0 ORDER BY m.surname, m.firstname\n"
     ]
    }
   ],
   "source": [
    "sql_query = \"\"\n",
    "sql_query += \"SELECT m.surname as member_surname, m.firstname as member_firstname, r.surname as recommended_surname, r.firstname as recommended_firstname \"\n",
    "sql_query += \"FROM Members m \"\n",
    "sql_query += \"LEFT JOIN Members r \"\n",
    "sql_query += \"ON r.memid = m.recommendedby \"\n",
    "sql_query += \"WHERE m.memid != 0 \"\n",
    "sql_query += \"ORDER BY m.surname, m.firstname\"\n",
    "print(sql_query)"
   ]
  },
  {
   "cell_type": "code",
   "execution_count": 14,
   "id": "copyrighted-istanbul",
   "metadata": {},
   "outputs": [
    {
     "name": "stdout",
     "output_type": "stream",
     "text": [
      "       member_surname member_firstname recommended_surname  \\\n",
      "0               Bader         Florence            Stibbons   \n",
      "1               Baker             Anne            Stibbons   \n",
      "2               Baker          Timothy             Farrell   \n",
      "3              Boothe              Tim              Rownam   \n",
      "4             Butters           Gerald               Smith   \n",
      "5              Coplin             Joan               Baker   \n",
      "6             Crumpet            Erica               Smith   \n",
      "7                Dare            Nancy            Joplette   \n",
      "8             Farrell            David                None   \n",
      "9             Farrell           Jemima                None   \n",
      "10            Genting          Matthew             Butters   \n",
      "11               Hunt             John             Purview   \n",
      "12              Jones            David            Joplette   \n",
      "13              Jones          Douglas               Jones   \n",
      "14           Joplette           Janice               Smith   \n",
      "15          Mackenzie             Anna               Smith   \n",
      "16               Owen          Charles               Smith   \n",
      "17             Pinker            David             Farrell   \n",
      "18            Purview        Millicent               Smith   \n",
      "19             Rownam              Tim                None   \n",
      "20             Rumney        Henrietta             Genting   \n",
      "21             Sarwin        Ramnaresh               Bader   \n",
      "22              Smith           Darren                None   \n",
      "23              Smith           Darren                None   \n",
      "24              Smith             Jack               Smith   \n",
      "25              Smith            Tracy                None   \n",
      "26           Stibbons           Ponder               Tracy   \n",
      "27              Tracy           Burton                None   \n",
      "28         Tupperware         Hyacinth                None   \n",
      "29  Worthington-Smyth            Henry               Smith   \n",
      "\n",
      "   recommended_firstname  \n",
      "0                 Ponder  \n",
      "1                 Ponder  \n",
      "2                 Jemima  \n",
      "3                    Tim  \n",
      "4                 Darren  \n",
      "5                Timothy  \n",
      "6                  Tracy  \n",
      "7                 Janice  \n",
      "8                   None  \n",
      "9                   None  \n",
      "10                Gerald  \n",
      "11             Millicent  \n",
      "12                Janice  \n",
      "13                 David  \n",
      "14                Darren  \n",
      "15                Darren  \n",
      "16                Darren  \n",
      "17                Jemima  \n",
      "18                 Tracy  \n",
      "19                  None  \n",
      "20               Matthew  \n",
      "21              Florence  \n",
      "22                  None  \n",
      "23                  None  \n",
      "24                Darren  \n",
      "25                  None  \n",
      "26                Burton  \n",
      "27                  None  \n",
      "28                  None  \n",
      "29                 Tracy  \n"
     ]
    }
   ],
   "source": [
    "with engine.connect() as con:\n",
    "    rs = con.execute(text(sql_query))\n",
    "    df = pd.DataFrame(rs.fetchall())\n",
    "    df.columns = rs.keys()\n",
    "\n",
    "print(df)"
   ]
  },
  {
   "cell_type": "markdown",
   "id": "polished-jaguar",
   "metadata": {},
   "source": [
    "**Q12:** Find the facilities with their usage by member, but not guests"
   ]
  },
  {
   "cell_type": "code",
   "execution_count": 15,
   "id": "musical-seventh",
   "metadata": {},
   "outputs": [
    {
     "name": "stdout",
     "output_type": "stream",
     "text": [
      "SELECT m.surname, m.firstname, f.name as facility_name, count(b.facid) as times_used FROM Bookings as b LEFT JOIN Facilities as f ON b.facid = f.facid LEFT JOIN Members as m ON b.memid = m.memid WHERE b.memid != 0 GROUP BY b.memid, b.facid ORDER BY b.memid, f.name\n"
     ]
    }
   ],
   "source": [
    "sql_query = \"\"\n",
    "sql_query += \"SELECT m.surname, m.firstname, f.name as facility_name, count(b.facid) as times_used \"\n",
    "sql_query += \"FROM Bookings as b \"\n",
    "sql_query += \"LEFT JOIN Facilities as f \"\n",
    "sql_query += \"ON b.facid = f.facid \"\n",
    "sql_query += \"LEFT JOIN Members as m \"\n",
    "sql_query += \"ON b.memid = m.memid \"\n",
    "sql_query += \"WHERE b.memid != 0 \"\n",
    "sql_query += \"GROUP BY b.memid, b.facid \"\n",
    "sql_query += \"ORDER BY b.memid, f.name\"\n",
    "print(sql_query)"
   ]
  },
  {
   "cell_type": "code",
   "execution_count": 16,
   "id": "passing-royalty",
   "metadata": {},
   "outputs": [
    {
     "name": "stdout",
     "output_type": "stream",
     "text": [
      "     surname firstname    facility_name  times_used\n",
      "0      Smith    Darren  Badminton Court         132\n",
      "1      Smith    Darren   Massage Room 1          28\n",
      "2      Smith    Darren       Pool Table          28\n",
      "3      Smith    Darren    Snooker Table          12\n",
      "4      Smith    Darren     Squash Court          14\n",
      "..       ...       ...              ...         ...\n",
      "197     Hunt      John   Tennis Court 2           4\n",
      "198  Crumpet     Erica  Badminton Court           2\n",
      "199  Crumpet     Erica   Massage Room 1           2\n",
      "200  Crumpet     Erica     Table Tennis           2\n",
      "201  Crumpet     Erica   Tennis Court 1           1\n",
      "\n",
      "[202 rows x 4 columns]\n"
     ]
    }
   ],
   "source": [
    "with engine.connect() as con:\n",
    "    rs = con.execute(text(sql_query))\n",
    "    df = pd.DataFrame(rs.fetchall())\n",
    "    df.columns = rs.keys()\n",
    "\n",
    "print(df)"
   ]
  },
  {
   "cell_type": "markdown",
   "id": "funded-diary",
   "metadata": {},
   "source": [
    "**Q13:** Find the facilities usage by month, but not guests"
   ]
  },
  {
   "cell_type": "code",
   "execution_count": 31,
   "id": "desirable-south",
   "metadata": {},
   "outputs": [
    {
     "name": "stdout",
     "output_type": "stream",
     "text": [
      "SELECT f.name, count(b.facid) as times_used, strftime('%m', date(starttime)) as month_of_year FROM Bookings as b LEFT JOIN Facilities as f ON b.facid = f.facid WHERE b.memid != 0 GROUP BY b.facid, strftime('%m', date(starttime)) ORDER BY month_of_year, f.name\n"
     ]
    }
   ],
   "source": [
    "sql_query = \"\"\n",
    "sql_query += \"SELECT f.name, count(b.facid) as times_used, strftime('%m', date(starttime)) as month_of_year \"\n",
    "sql_query += \"FROM Bookings as b \"\n",
    "sql_query += \"LEFT JOIN Facilities as f \"\n",
    "sql_query += \"ON b.facid = f.facid \"\n",
    "sql_query += \"WHERE b.memid != 0 \"\n",
    "sql_query += \"GROUP BY b.facid, strftime('%m', date(starttime)) \"\n",
    "sql_query += \"ORDER BY month_of_year, f.name\"\n",
    "print(sql_query)"
   ]
  },
  {
   "cell_type": "code",
   "execution_count": 32,
   "id": "iraqi-football",
   "metadata": {},
   "outputs": [
    {
     "name": "stdout",
     "output_type": "stream",
     "text": [
      "               name  times_used month_of_year\n",
      "0   Badminton Court          51            07\n",
      "1    Massage Room 1          77            07\n",
      "2    Massage Room 2           4            07\n",
      "3        Pool Table         103            07\n",
      "4     Snooker Table          68            07\n",
      "5      Squash Court          23            07\n",
      "6      Table Tennis          48            07\n",
      "7    Tennis Court 1          65            07\n",
      "8    Tennis Court 2          41            07\n",
      "9   Badminton Court         132            08\n",
      "10   Massage Room 1         153            08\n",
      "11   Massage Room 2           9            08\n",
      "12       Pool Table         272            08\n",
      "13    Snooker Table         154            08\n",
      "14     Squash Court          85            08\n",
      "15     Table Tennis         143            08\n",
      "16   Tennis Court 1         111            08\n",
      "17   Tennis Court 2         109            08\n",
      "18  Badminton Court         161            09\n",
      "19   Massage Room 1         191            09\n",
      "20   Massage Room 2          14            09\n",
      "21       Pool Table         408            09\n",
      "22    Snooker Table         199            09\n",
      "23     Squash Court          87            09\n",
      "24     Table Tennis         194            09\n",
      "25   Tennis Court 1         132            09\n",
      "26   Tennis Court 2         126            09\n"
     ]
    }
   ],
   "source": [
    "with engine.connect() as con:\n",
    "    rs = con.execute(text(sql_query))\n",
    "    df = pd.DataFrame(rs.fetchall())\n",
    "    df.columns = rs.keys()\n",
    "\n",
    "print(df)"
   ]
  },
  {
   "cell_type": "code",
   "execution_count": null,
   "id": "ethical-prime",
   "metadata": {},
   "outputs": [],
   "source": []
  }
 ],
 "metadata": {
  "kernelspec": {
   "display_name": "Python 3",
   "language": "python",
   "name": "python3"
  },
  "language_info": {
   "codemirror_mode": {
    "name": "ipython",
    "version": 3
   },
   "file_extension": ".py",
   "mimetype": "text/x-python",
   "name": "python",
   "nbconvert_exporter": "python",
   "pygments_lexer": "ipython3",
   "version": "3.6.6"
  }
 },
 "nbformat": 4,
 "nbformat_minor": 5
}
