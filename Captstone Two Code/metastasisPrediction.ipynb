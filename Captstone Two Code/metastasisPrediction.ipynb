{
 "cells": [
  {
   "cell_type": "markdown",
   "id": "oriental-cancer",
   "metadata": {},
   "source": [
    "## Data wrangling\n"
   ]
  },
  {
   "cell_type": "code",
   "execution_count": 1,
   "id": "sought-alabama",
   "metadata": {},
   "outputs": [],
   "source": [
    "#Importing all the libraries I believe I will be using\n",
    "import pandas as pd\n",
    "import matplotlib.pyplot as plt\n",
    "import seaborn as sns\n",
    "import os\n",
    "\n",
    "from library.sb_utils import save_file\n",
    "from urllib.request import urlretrieve\n",
    "from pandas_profiling import ProfileReport"
   ]
  },
  {
   "cell_type": "markdown",
   "id": "polar-nashville",
   "metadata": {},
   "source": [
    "The file I am extracting was taken from [A clinical decision support system learned from data to personalize treatment recommendations towards preventing breast cancer metastasis](https://datadryad.org/stash/dataset/doi%253A10.5061%252Fdryad.64964m0), which contains the following information:\n",
    "\n",
    "|Variable  ||Description                                ||Values           |\n",
    "|----------||-------------||----|\n",
    "|metastasis||Whether patient metastasized within 5 years||yes, no          |\n",
    "|age\t   ||age at diagnosis of the disease            ||0-49, 50-64, > 64|\n",
    "|menopause ||inferred menopausal status\t\t||pre, post|\n",
    "|size\t   ||size of tumor in mm\t\t\t||0-38, 38-50.5, > 50.5|\n",
    "|node_positive\t||number of positive lymph nodes\t\t||0, 1-3,  > 3|\n",
    "|node_removed\t||number of lymph nodes removed\t\t||0-2, 3-5 > 5|\n",
    "|node_status\t||patient had any positive lymph nodes\t||neg,pos|\n",
    "|grade\t\t||grade of disease\t\t\t||1, 2, 3|\n",
    "|invasive\t||whether tumor is invasive\t\t||yes,no|\n",
    "|stage\t\t||composite of size and # positive nodes\t||0,1,2,3|\n",
    "|histology\t||tumor histology\t\t\t\t||lobular, duct|\n",
    "|ER\t\t    ||estrogen receptor expression\t\t||neg, pos|\n",
    "|PR\t\t    ||progesterone receptor expression\t||neg, pos|\n",
    "|HER2\t\t||HER2 expression\t||neg, pos|\n",
    "|TNEG\t\t||patient ER, PR, and HER2 negative\t||yes, no|\n",
    "|P53\t\t||whether P53 is mutated\t||neg, pos|\n",
    "|surgical_margins||Whether there is a residual tumor after surgery\t||res. tumor, no res. tumor,no primary site surgery|\n",
    "|surgery\t||type of surgery\t\t\t\t||conservation, mastectomy|\n",
    "|chemo\t||whether patient had chemotherapy\t||yes, no|\n",
    "|breast_chest_radi\t||whether patient had breast or chest radiation\t||yes, no|\n",
    "|nodal_radi\t||whether patient had lymph node  radiation \t||yes, no|\n",
    "|antihormone\t||whether patient had hormone therapy\t||yes, no|\n",
    "|HER2_Inhib\t||whether patient had a HER2 inhibitor\t||yes, no|\n",
    "|neo\t\t||Whether patient had neoadjuvant therapy\t||yes, no|"
   ]
  },
  {
   "cell_type": "code",
   "execution_count": 2,
   "id": "cutting-launch",
   "metadata": {},
   "outputs": [
    {
     "data": {
      "text/plain": [
       "('SourceFiles/LSDS-5YDM.txt', <http.client.HTTPMessage at 0x1f890d1b588>)"
      ]
     },
     "execution_count": 2,
     "metadata": {},
     "output_type": "execute_result"
    }
   ],
   "source": [
    "#Let's downlaod the file directly from the official site\n",
    "url = 'https://datadryad.org/stash/downloads/file_stream/83536'\n",
    "file_name = 'SourceFiles/'+'LSDS-5YDM.txt'\n",
    "urlretrieve(url,file_name)"
   ]
  },
  {
   "cell_type": "code",
   "execution_count": 3,
   "id": "steady-significance",
   "metadata": {},
   "outputs": [
    {
     "data": {
      "text/html": [
       "<div>\n",
       "<style scoped>\n",
       "    .dataframe tbody tr th:only-of-type {\n",
       "        vertical-align: middle;\n",
       "    }\n",
       "\n",
       "    .dataframe tbody tr th {\n",
       "        vertical-align: top;\n",
       "    }\n",
       "\n",
       "    .dataframe thead th {\n",
       "        text-align: right;\n",
       "    }\n",
       "</style>\n",
       "<table border=\"1\" class=\"dataframe\">\n",
       "  <thead>\n",
       "    <tr style=\"text-align: right;\">\n",
       "      <th></th>\n",
       "      <th>metastasis</th>\n",
       "      <th>age</th>\n",
       "      <th>menopause</th>\n",
       "      <th>TNEG</th>\n",
       "      <th>ER</th>\n",
       "      <th>PR</th>\n",
       "      <th>P53</th>\n",
       "      <th>HER2</th>\n",
       "      <th>stage</th>\n",
       "      <th>node_status</th>\n",
       "      <th>...</th>\n",
       "      <th>grade</th>\n",
       "      <th>invasive</th>\n",
       "      <th>surgical_margins</th>\n",
       "      <th>surgery</th>\n",
       "      <th>breast_chest_radi</th>\n",
       "      <th>nodal_radi</th>\n",
       "      <th>chemo</th>\n",
       "      <th>antihormone</th>\n",
       "      <th>HER2_Inhib</th>\n",
       "      <th>neo</th>\n",
       "    </tr>\n",
       "  </thead>\n",
       "  <tbody>\n",
       "    <tr>\n",
       "      <th>0</th>\n",
       "      <td>NO</td>\n",
       "      <td>three</td>\n",
       "      <td>POST</td>\n",
       "      <td>NO</td>\n",
       "      <td>POSITIVE</td>\n",
       "      <td>POSITIVE</td>\n",
       "      <td>NEGATIVE</td>\n",
       "      <td>NEGATIVE</td>\n",
       "      <td>one</td>\n",
       "      <td>NEGATIVE</td>\n",
       "      <td>...</td>\n",
       "      <td>two</td>\n",
       "      <td>YES</td>\n",
       "      <td>NO RESIDUAL TUMOR</td>\n",
       "      <td>CONSERVATION</td>\n",
       "      <td>YES</td>\n",
       "      <td>NO</td>\n",
       "      <td>NO</td>\n",
       "      <td>YES</td>\n",
       "      <td>NO</td>\n",
       "      <td>NO</td>\n",
       "    </tr>\n",
       "    <tr>\n",
       "      <th>1</th>\n",
       "      <td>NO</td>\n",
       "      <td>two</td>\n",
       "      <td>POST</td>\n",
       "      <td>NO</td>\n",
       "      <td>POSITIVE</td>\n",
       "      <td>POSITIVE</td>\n",
       "      <td>NEGATIVE</td>\n",
       "      <td>NEGATIVE</td>\n",
       "      <td>three</td>\n",
       "      <td>POSITIVE</td>\n",
       "      <td>...</td>\n",
       "      <td>one</td>\n",
       "      <td>YES</td>\n",
       "      <td>NO RESIDUAL TUMOR</td>\n",
       "      <td>CONSERVATION</td>\n",
       "      <td>NO</td>\n",
       "      <td>NO</td>\n",
       "      <td>YES</td>\n",
       "      <td>NO</td>\n",
       "      <td>NO</td>\n",
       "      <td>NO</td>\n",
       "    </tr>\n",
       "    <tr>\n",
       "      <th>2</th>\n",
       "      <td>NO</td>\n",
       "      <td>one</td>\n",
       "      <td>PRE</td>\n",
       "      <td>NO</td>\n",
       "      <td>POSITIVE</td>\n",
       "      <td>POSITIVE</td>\n",
       "      <td>NEGATIVE</td>\n",
       "      <td>NEGATIVE</td>\n",
       "      <td>one</td>\n",
       "      <td>POSITIVE</td>\n",
       "      <td>...</td>\n",
       "      <td>one</td>\n",
       "      <td>YES</td>\n",
       "      <td>NO RESIDUAL TUMOR</td>\n",
       "      <td>CONSERVATION</td>\n",
       "      <td>YES</td>\n",
       "      <td>NO</td>\n",
       "      <td>NO</td>\n",
       "      <td>NO</td>\n",
       "      <td>NO</td>\n",
       "      <td>NO</td>\n",
       "    </tr>\n",
       "    <tr>\n",
       "      <th>3</th>\n",
       "      <td>NO</td>\n",
       "      <td>three</td>\n",
       "      <td>POST</td>\n",
       "      <td>NO</td>\n",
       "      <td>POSITIVE</td>\n",
       "      <td>POSITIVE</td>\n",
       "      <td>NEGATIVE</td>\n",
       "      <td>NEGATIVE</td>\n",
       "      <td>one</td>\n",
       "      <td>NEGATIVE</td>\n",
       "      <td>...</td>\n",
       "      <td>one</td>\n",
       "      <td>YES</td>\n",
       "      <td>NO RESIDUAL TUMOR</td>\n",
       "      <td>CONSERVATION</td>\n",
       "      <td>NO</td>\n",
       "      <td>NO</td>\n",
       "      <td>NO</td>\n",
       "      <td>YES</td>\n",
       "      <td>NO</td>\n",
       "      <td>NO</td>\n",
       "    </tr>\n",
       "    <tr>\n",
       "      <th>4</th>\n",
       "      <td>NO</td>\n",
       "      <td>three</td>\n",
       "      <td>POST</td>\n",
       "      <td>NO</td>\n",
       "      <td>POSITIVE</td>\n",
       "      <td>POSITIVE</td>\n",
       "      <td>NEGATIVE</td>\n",
       "      <td>NEGATIVE</td>\n",
       "      <td>one</td>\n",
       "      <td>NEGATIVE</td>\n",
       "      <td>...</td>\n",
       "      <td>two</td>\n",
       "      <td>YES</td>\n",
       "      <td>NO RESIDUAL TUMOR</td>\n",
       "      <td>CONSERVATION</td>\n",
       "      <td>YES</td>\n",
       "      <td>NO</td>\n",
       "      <td>NO</td>\n",
       "      <td>YES</td>\n",
       "      <td>NO</td>\n",
       "      <td>NO</td>\n",
       "    </tr>\n",
       "  </tbody>\n",
       "</table>\n",
       "<p>5 rows × 24 columns</p>\n",
       "</div>"
      ],
      "text/plain": [
       "  metastasis    age menopause TNEG        ER        PR       P53      HER2  \\\n",
       "0         NO  three      POST   NO  POSITIVE  POSITIVE  NEGATIVE  NEGATIVE   \n",
       "1         NO    two      POST   NO  POSITIVE  POSITIVE  NEGATIVE  NEGATIVE   \n",
       "2         NO    one       PRE   NO  POSITIVE  POSITIVE  NEGATIVE  NEGATIVE   \n",
       "3         NO  three      POST   NO  POSITIVE  POSITIVE  NEGATIVE  NEGATIVE   \n",
       "4         NO  three      POST   NO  POSITIVE  POSITIVE  NEGATIVE  NEGATIVE   \n",
       "\n",
       "   stage node_status  ... grade invasive   surgical_margins       surgery  \\\n",
       "0    one    NEGATIVE  ...   two      YES  NO RESIDUAL TUMOR  CONSERVATION   \n",
       "1  three    POSITIVE  ...   one      YES  NO RESIDUAL TUMOR  CONSERVATION   \n",
       "2    one    POSITIVE  ...   one      YES  NO RESIDUAL TUMOR  CONSERVATION   \n",
       "3    one    NEGATIVE  ...   one      YES  NO RESIDUAL TUMOR  CONSERVATION   \n",
       "4    one    NEGATIVE  ...   two      YES  NO RESIDUAL TUMOR  CONSERVATION   \n",
       "\n",
       "  breast_chest_radi nodal_radi chemo antihormone HER2_Inhib neo  \n",
       "0               YES         NO    NO         YES         NO  NO  \n",
       "1                NO         NO   YES          NO         NO  NO  \n",
       "2               YES         NO    NO          NO         NO  NO  \n",
       "3                NO         NO    NO         YES         NO  NO  \n",
       "4               YES         NO    NO         YES         NO  NO  \n",
       "\n",
       "[5 rows x 24 columns]"
      ]
     },
     "execution_count": 3,
     "metadata": {},
     "output_type": "execute_result"
    }
   ],
   "source": [
    "data = pd.read_csv(file_name,sep='\\t')\n",
    "data.head()"
   ]
  },
  {
   "cell_type": "code",
   "execution_count": 4,
   "id": "intermediate-guarantee",
   "metadata": {},
   "outputs": [
    {
     "name": "stdout",
     "output_type": "stream",
     "text": [
      "<class 'pandas.core.frame.DataFrame'>\n",
      "RangeIndex: 6726 entries, 0 to 6725\n",
      "Data columns (total 24 columns):\n",
      " #   Column             Non-Null Count  Dtype \n",
      "---  ------             --------------  ----- \n",
      " 0   metastasis         6726 non-null   object\n",
      " 1   age                6726 non-null   object\n",
      " 2   menopause          6726 non-null   object\n",
      " 3   TNEG               6726 non-null   object\n",
      " 4   ER                 6726 non-null   object\n",
      " 5   PR                 6726 non-null   object\n",
      " 6   P53                6726 non-null   object\n",
      " 7   HER2               6726 non-null   object\n",
      " 8   stage              6726 non-null   object\n",
      " 9   node_status        6726 non-null   object\n",
      " 10  node_positive      6726 non-null   object\n",
      " 11  node_removed       6726 non-null   object\n",
      " 12  histology          6726 non-null   object\n",
      " 13  size               6726 non-null   object\n",
      " 14  grade              6726 non-null   object\n",
      " 15  invasive           6726 non-null   object\n",
      " 16  surgical_margins   6726 non-null   object\n",
      " 17  surgery            6726 non-null   object\n",
      " 18  breast_chest_radi  6726 non-null   object\n",
      " 19  nodal_radi         6726 non-null   object\n",
      " 20  chemo              6726 non-null   object\n",
      " 21  antihormone        6726 non-null   object\n",
      " 22  HER2_Inhib         6726 non-null   object\n",
      " 23  neo                6726 non-null   object\n",
      "dtypes: object(24)\n",
      "memory usage: 1.2+ MB\n"
     ]
    }
   ],
   "source": [
    "#Let's analyze if we have values for all rows and columns\n",
    "data.info()"
   ]
  },
  {
   "cell_type": "code",
   "execution_count": 5,
   "id": "ambient-cycling",
   "metadata": {},
   "outputs": [
    {
     "name": "stdout",
     "output_type": "stream",
     "text": [
      "NO     6193\n",
      "YES     533\n",
      "Name: metastasis, dtype: int64\n",
      "------------------\n",
      "two      2787\n",
      "one      2091\n",
      "three    1848\n",
      "Name: age, dtype: int64\n",
      "------------------\n",
      "POST    4754\n",
      "PRE     1972\n",
      "Name: menopause, dtype: int64\n",
      "------------------\n",
      "NO     6011\n",
      "YES     715\n",
      "Name: TNEG, dtype: int64\n",
      "------------------\n",
      "POSITIVE    5462\n",
      "NEGATIVE    1264\n",
      "Name: ER, dtype: int64\n",
      "------------------\n",
      "POSITIVE    4813\n",
      "NEGATIVE    1913\n",
      "Name: PR, dtype: int64\n",
      "------------------\n",
      "NEGATIVE    5230\n",
      "POSITIVE    1496\n",
      "Name: P53, dtype: int64\n",
      "------------------\n",
      "NEGATIVE    5866\n",
      "POSITIVE     860\n",
      "Name: HER2, dtype: int64\n",
      "------------------\n",
      "one      3853\n",
      "two      1069\n",
      "zero     1004\n",
      "three     800\n",
      "Name: stage, dtype: int64\n",
      "------------------\n",
      "NEGATIVE    4771\n",
      "POSITIVE    1955\n",
      "Name: node_status, dtype: int64\n",
      "------------------\n",
      "zero    4771\n",
      "one     1360\n",
      "two      595\n",
      "Name: node_positive, dtype: int64\n",
      "------------------\n",
      "three    2326\n",
      "two      2277\n",
      "one      2123\n",
      "Name: node_removed, dtype: int64\n",
      "------------------\n",
      "DUCT       6179\n",
      "LOBULAR     547\n",
      "Name: histology, dtype: int64\n",
      "------------------\n",
      "one      6004\n",
      "two       383\n",
      "three     339\n",
      "Name: size, dtype: int64\n",
      "------------------\n",
      "two      2924\n",
      "three    2239\n",
      "one      1563\n",
      "Name: grade, dtype: int64\n",
      "------------------\n",
      "YES    5722\n",
      "NO     1004\n",
      "Name: invasive, dtype: int64\n",
      "------------------\n",
      "NO RESIDUAL TUMOR    6396\n",
      "RESIDUAL TUMOR        232\n",
      "NO PRIMARY SITE        98\n",
      "Name: surgical_margins, dtype: int64\n",
      "------------------\n",
      "CONSERVATION    4099\n",
      "MASTECTOMY      2568\n",
      "NO SURGERY        59\n",
      "Name: surgery, dtype: int64\n",
      "------------------\n",
      "YES    3400\n",
      "NO     3326\n",
      "Name: breast_chest_radi, dtype: int64\n",
      "------------------\n",
      "NO     5920\n",
      "YES     806\n",
      "Name: nodal_radi, dtype: int64\n",
      "------------------\n",
      "NO     4858\n",
      "YES    1868\n",
      "Name: chemo, dtype: int64\n",
      "------------------\n",
      "NO     4464\n",
      "YES    2262\n",
      "Name: antihormone, dtype: int64\n",
      "------------------\n",
      "NO     6457\n",
      "YES     269\n",
      "Name: HER2_Inhib, dtype: int64\n",
      "------------------\n",
      "NO     6411\n",
      "YES     315\n",
      "Name: neo, dtype: int64\n",
      "------------------\n"
     ]
    }
   ],
   "source": [
    "#Let's now analyze if we have consistency on the values across the rows\n",
    "for col in data.columns:\n",
    "    print(data[col].value_counts())\n",
    "    print('------------------')"
   ]
  },
  {
   "cell_type": "markdown",
   "id": "together-charge",
   "metadata": {},
   "source": [
    "As we can see, the data is clean an ready to be worked on"
   ]
  },
  {
   "cell_type": "code",
   "execution_count": 6,
   "id": "secure-success",
   "metadata": {
    "scrolled": true
   },
   "outputs": [],
   "source": [
    "profile = ProfileReport(data, title=\"Pandas Profiling Report\",explorative=True)"
   ]
  },
  {
   "cell_type": "code",
   "execution_count": 8,
   "id": "atlantic-british",
   "metadata": {},
   "outputs": [],
   "source": [
    "profile.set_variable(\"samples\", None)\n",
    "profile.set_variable(\"duplicates\", None)"
   ]
  },
  {
   "cell_type": "code",
   "execution_count": 9,
   "id": "sorted-highlight",
   "metadata": {},
   "outputs": [
    {
     "data": {
      "application/vnd.jupyter.widget-view+json": {
       "model_id": "4aae52b813e94f13969c47062b81847c",
       "version_major": 2,
       "version_minor": 0
      },
      "text/plain": [
       "Summarize dataset:   0%|          | 0/37 [00:00<?, ?it/s]"
      ]
     },
     "metadata": {},
     "output_type": "display_data"
    },
    {
     "data": {
      "application/vnd.jupyter.widget-view+json": {
       "model_id": "1e36e325593c48a094d4cec1e5acc774",
       "version_major": 2,
       "version_minor": 0
      },
      "text/plain": [
       "Generate report structure:   0%|          | 0/1 [00:00<?, ?it/s]"
      ]
     },
     "metadata": {},
     "output_type": "display_data"
    },
    {
     "data": {
      "application/vnd.jupyter.widget-view+json": {
       "model_id": "",
       "version_major": 2,
       "version_minor": 0
      },
      "text/plain": [
       "Render widgets:   0%|          | 0/1 [00:00<?, ?it/s]"
      ]
     },
     "metadata": {},
     "output_type": "display_data"
    },
    {
     "data": {
      "application/vnd.jupyter.widget-view+json": {
       "model_id": "df56e19b67744063af0e8e38a91648f3",
       "version_major": 2,
       "version_minor": 0
      },
      "text/plain": [
       "VBox(children=(Tab(children=(Tab(children=(GridBox(children=(VBox(children=(GridspecLayout(children=(HTML(valu…"
      ]
     },
     "metadata": {},
     "output_type": "display_data"
    }
   ],
   "source": [
    "profile.to_widgets()"
   ]
  },
  {
   "cell_type": "code",
   "execution_count": null,
   "id": "hindu-client",
   "metadata": {},
   "outputs": [],
   "source": []
  }
 ],
 "metadata": {
  "celltoolbar": "Raw Cell Format",
  "kernelspec": {
   "display_name": "Python 3",
   "language": "python",
   "name": "python3"
  },
  "language_info": {
   "codemirror_mode": {
    "name": "ipython",
    "version": 3
   },
   "file_extension": ".py",
   "mimetype": "text/x-python",
   "name": "python",
   "nbconvert_exporter": "python",
   "pygments_lexer": "ipython3",
   "version": "3.6.6"
  }
 },
 "nbformat": 4,
 "nbformat_minor": 5
}
