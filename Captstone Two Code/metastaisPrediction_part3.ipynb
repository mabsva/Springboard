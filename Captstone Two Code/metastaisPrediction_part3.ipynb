{
 "cells": [
  {
   "cell_type": "markdown",
   "id": "pregnant-kansas",
   "metadata": {},
   "source": [
    "## Pre-Processing and Training Data"
   ]
  },
  {
   "cell_type": "code",
   "execution_count": 1,
   "id": "threaded-poverty",
   "metadata": {},
   "outputs": [],
   "source": [
    "#Importing all the libraries I believe I will be using\n",
    "import pandas as pd\n",
    "import matplotlib.pyplot as plt\n",
    "import seaborn as sns\n",
    "import numpy as np\n",
    "import os\n",
    "\n",
    "from library.sb_utils import save_file"
   ]
  },
  {
   "cell_type": "code",
   "execution_count": 2,
   "id": "recreational-winning",
   "metadata": {},
   "outputs": [],
   "source": [
    "meta_df = pd.read_csv('SourceFiles/numerical_data.csv')"
   ]
  },
  {
   "cell_type": "code",
   "execution_count": 3,
   "id": "violent-birth",
   "metadata": {},
   "outputs": [
    {
     "name": "stdout",
     "output_type": "stream",
     "text": [
      "<class 'pandas.core.frame.DataFrame'>\n",
      "RangeIndex: 6726 entries, 0 to 6725\n",
      "Data columns (total 29 columns):\n",
      " #   Column                Non-Null Count  Dtype\n",
      "---  ------                --------------  -----\n",
      " 0   metastasis            6726 non-null   int64\n",
      " 1   tneg                  6726 non-null   int64\n",
      " 2   invasive              6726 non-null   int64\n",
      " 3   breast_chest_radi     6726 non-null   int64\n",
      " 4   nodal_radi            6726 non-null   int64\n",
      " 5   chemo                 6726 non-null   int64\n",
      " 6   antihormone           6726 non-null   int64\n",
      " 7   her2_inhib            6726 non-null   int64\n",
      " 8   neo                   6726 non-null   int64\n",
      " 9   er                    6726 non-null   int64\n",
      " 10  pr                    6726 non-null   int64\n",
      " 11  p53                   6726 non-null   int64\n",
      " 12  her2                  6726 non-null   int64\n",
      " 13  node_status           6726 non-null   int64\n",
      " 14  age                   6726 non-null   int64\n",
      " 15  menopause             6726 non-null   int64\n",
      " 16  node_positive         6726 non-null   int64\n",
      " 17  stage                 6726 non-null   int64\n",
      " 18  node_removed          6726 non-null   int64\n",
      " 19  tumor_duct            6726 non-null   int64\n",
      " 20  tumor_lobular         6726 non-null   int64\n",
      " 21  size                  6726 non-null   int64\n",
      " 22  grade                 6726 non-null   int64\n",
      " 23  surgery_no_residual   6726 non-null   int64\n",
      " 24  surgery_residual      6726 non-null   int64\n",
      " 25  no primary site       6726 non-null   int64\n",
      " 26  conservation_surgery  6726 non-null   int64\n",
      " 27  mastectomy_surgery    6726 non-null   int64\n",
      " 28  no_surgery            6726 non-null   int64\n",
      "dtypes: int64(29)\n",
      "memory usage: 1.5 MB\n"
     ]
    }
   ],
   "source": [
    "#as we can see, there are only numeric fields left in the Dataframe, netiher are null values left\n",
    "meta_df.info()"
   ]
  },
  {
   "cell_type": "code",
   "execution_count": 4,
   "id": "golden-herald",
   "metadata": {},
   "outputs": [
    {
     "data": {
      "text/html": [
       "<div>\n",
       "<style scoped>\n",
       "    .dataframe tbody tr th:only-of-type {\n",
       "        vertical-align: middle;\n",
       "    }\n",
       "\n",
       "    .dataframe tbody tr th {\n",
       "        vertical-align: top;\n",
       "    }\n",
       "\n",
       "    .dataframe thead th {\n",
       "        text-align: right;\n",
       "    }\n",
       "</style>\n",
       "<table border=\"1\" class=\"dataframe\">\n",
       "  <thead>\n",
       "    <tr style=\"text-align: right;\">\n",
       "      <th></th>\n",
       "      <th>VarName</th>\n",
       "      <th>NullCount</th>\n",
       "    </tr>\n",
       "  </thead>\n",
       "  <tbody>\n",
       "  </tbody>\n",
       "</table>\n",
       "</div>"
      ],
      "text/plain": [
       "Empty DataFrame\n",
       "Columns: [VarName, NullCount]\n",
       "Index: []"
      ]
     },
     "execution_count": 4,
     "metadata": {},
     "output_type": "execute_result"
    }
   ],
   "source": [
    "#Counts of null values\n",
    "na_df=pd.DataFrame(meta_df.isnull().sum().sort_values(ascending=False)).reset_index()\n",
    "na_df.columns = ['VarName', 'NullCount']\n",
    "na_df[(na_df['NullCount']>0)]"
   ]
  },
  {
   "cell_type": "code",
   "execution_count": 5,
   "id": "indie-purpose",
   "metadata": {},
   "outputs": [
    {
     "data": {
      "text/plain": [
       "0    6193\n",
       "1     533\n",
       "Name: metastasis, dtype: int64"
      ]
     },
     "execution_count": 5,
     "metadata": {},
     "output_type": "execute_result"
    }
   ],
   "source": [
    "#counts of response variable values\n",
    "meta_df.metastasis.value_counts()"
   ]
  },
  {
   "cell_type": "markdown",
   "id": "beautiful-harmony",
   "metadata": {},
   "source": [
    "From our data (6726 records), 92% are metastasis free, while 8% presented metastasis"
   ]
  },
  {
   "cell_type": "code",
   "execution_count": 6,
   "id": "front-error",
   "metadata": {},
   "outputs": [
    {
     "data": {
      "text/html": [
       "<div>\n",
       "<style scoped>\n",
       "    .dataframe tbody tr th:only-of-type {\n",
       "        vertical-align: middle;\n",
       "    }\n",
       "\n",
       "    .dataframe tbody tr th {\n",
       "        vertical-align: top;\n",
       "    }\n",
       "\n",
       "    .dataframe thead th {\n",
       "        text-align: right;\n",
       "    }\n",
       "</style>\n",
       "<table border=\"1\" class=\"dataframe\">\n",
       "  <thead>\n",
       "    <tr style=\"text-align: right;\">\n",
       "      <th></th>\n",
       "      <th>metastasis</th>\n",
       "      <th>tneg</th>\n",
       "      <th>invasive</th>\n",
       "      <th>breast_chest_radi</th>\n",
       "      <th>nodal_radi</th>\n",
       "      <th>chemo</th>\n",
       "      <th>antihormone</th>\n",
       "      <th>her2_inhib</th>\n",
       "      <th>neo</th>\n",
       "      <th>er</th>\n",
       "      <th>...</th>\n",
       "      <th>tumor_duct</th>\n",
       "      <th>tumor_lobular</th>\n",
       "      <th>size</th>\n",
       "      <th>grade</th>\n",
       "      <th>surgery_no_residual</th>\n",
       "      <th>surgery_residual</th>\n",
       "      <th>no primary site</th>\n",
       "      <th>conservation_surgery</th>\n",
       "      <th>mastectomy_surgery</th>\n",
       "      <th>no_surgery</th>\n",
       "    </tr>\n",
       "  </thead>\n",
       "  <tbody>\n",
       "    <tr>\n",
       "      <th>4</th>\n",
       "      <td>0</td>\n",
       "      <td>0</td>\n",
       "      <td>1</td>\n",
       "      <td>1</td>\n",
       "      <td>0</td>\n",
       "      <td>0</td>\n",
       "      <td>1</td>\n",
       "      <td>0</td>\n",
       "      <td>0</td>\n",
       "      <td>1</td>\n",
       "      <td>...</td>\n",
       "      <td>1</td>\n",
       "      <td>0</td>\n",
       "      <td>1</td>\n",
       "      <td>2</td>\n",
       "      <td>1</td>\n",
       "      <td>0</td>\n",
       "      <td>0</td>\n",
       "      <td>1</td>\n",
       "      <td>0</td>\n",
       "      <td>0</td>\n",
       "    </tr>\n",
       "    <tr>\n",
       "      <th>58</th>\n",
       "      <td>0</td>\n",
       "      <td>0</td>\n",
       "      <td>1</td>\n",
       "      <td>1</td>\n",
       "      <td>0</td>\n",
       "      <td>0</td>\n",
       "      <td>0</td>\n",
       "      <td>0</td>\n",
       "      <td>0</td>\n",
       "      <td>1</td>\n",
       "      <td>...</td>\n",
       "      <td>1</td>\n",
       "      <td>0</td>\n",
       "      <td>1</td>\n",
       "      <td>2</td>\n",
       "      <td>1</td>\n",
       "      <td>0</td>\n",
       "      <td>0</td>\n",
       "      <td>1</td>\n",
       "      <td>0</td>\n",
       "      <td>0</td>\n",
       "    </tr>\n",
       "    <tr>\n",
       "      <th>60</th>\n",
       "      <td>0</td>\n",
       "      <td>0</td>\n",
       "      <td>1</td>\n",
       "      <td>1</td>\n",
       "      <td>0</td>\n",
       "      <td>0</td>\n",
       "      <td>0</td>\n",
       "      <td>0</td>\n",
       "      <td>0</td>\n",
       "      <td>1</td>\n",
       "      <td>...</td>\n",
       "      <td>1</td>\n",
       "      <td>0</td>\n",
       "      <td>1</td>\n",
       "      <td>2</td>\n",
       "      <td>1</td>\n",
       "      <td>0</td>\n",
       "      <td>0</td>\n",
       "      <td>1</td>\n",
       "      <td>0</td>\n",
       "      <td>0</td>\n",
       "    </tr>\n",
       "    <tr>\n",
       "      <th>104</th>\n",
       "      <td>0</td>\n",
       "      <td>0</td>\n",
       "      <td>1</td>\n",
       "      <td>0</td>\n",
       "      <td>0</td>\n",
       "      <td>0</td>\n",
       "      <td>0</td>\n",
       "      <td>0</td>\n",
       "      <td>0</td>\n",
       "      <td>1</td>\n",
       "      <td>...</td>\n",
       "      <td>0</td>\n",
       "      <td>1</td>\n",
       "      <td>1</td>\n",
       "      <td>1</td>\n",
       "      <td>1</td>\n",
       "      <td>0</td>\n",
       "      <td>0</td>\n",
       "      <td>0</td>\n",
       "      <td>1</td>\n",
       "      <td>0</td>\n",
       "    </tr>\n",
       "    <tr>\n",
       "      <th>110</th>\n",
       "      <td>0</td>\n",
       "      <td>0</td>\n",
       "      <td>1</td>\n",
       "      <td>1</td>\n",
       "      <td>0</td>\n",
       "      <td>0</td>\n",
       "      <td>1</td>\n",
       "      <td>0</td>\n",
       "      <td>0</td>\n",
       "      <td>1</td>\n",
       "      <td>...</td>\n",
       "      <td>1</td>\n",
       "      <td>0</td>\n",
       "      <td>1</td>\n",
       "      <td>2</td>\n",
       "      <td>1</td>\n",
       "      <td>0</td>\n",
       "      <td>0</td>\n",
       "      <td>1</td>\n",
       "      <td>0</td>\n",
       "      <td>0</td>\n",
       "    </tr>\n",
       "    <tr>\n",
       "      <th>...</th>\n",
       "      <td>...</td>\n",
       "      <td>...</td>\n",
       "      <td>...</td>\n",
       "      <td>...</td>\n",
       "      <td>...</td>\n",
       "      <td>...</td>\n",
       "      <td>...</td>\n",
       "      <td>...</td>\n",
       "      <td>...</td>\n",
       "      <td>...</td>\n",
       "      <td>...</td>\n",
       "      <td>...</td>\n",
       "      <td>...</td>\n",
       "      <td>...</td>\n",
       "      <td>...</td>\n",
       "      <td>...</td>\n",
       "      <td>...</td>\n",
       "      <td>...</td>\n",
       "      <td>...</td>\n",
       "      <td>...</td>\n",
       "      <td>...</td>\n",
       "    </tr>\n",
       "    <tr>\n",
       "      <th>6716</th>\n",
       "      <td>0</td>\n",
       "      <td>1</td>\n",
       "      <td>1</td>\n",
       "      <td>1</td>\n",
       "      <td>0</td>\n",
       "      <td>0</td>\n",
       "      <td>0</td>\n",
       "      <td>0</td>\n",
       "      <td>0</td>\n",
       "      <td>-1</td>\n",
       "      <td>...</td>\n",
       "      <td>1</td>\n",
       "      <td>0</td>\n",
       "      <td>1</td>\n",
       "      <td>2</td>\n",
       "      <td>1</td>\n",
       "      <td>0</td>\n",
       "      <td>0</td>\n",
       "      <td>1</td>\n",
       "      <td>0</td>\n",
       "      <td>0</td>\n",
       "    </tr>\n",
       "    <tr>\n",
       "      <th>6718</th>\n",
       "      <td>0</td>\n",
       "      <td>1</td>\n",
       "      <td>1</td>\n",
       "      <td>1</td>\n",
       "      <td>0</td>\n",
       "      <td>0</td>\n",
       "      <td>0</td>\n",
       "      <td>0</td>\n",
       "      <td>0</td>\n",
       "      <td>-1</td>\n",
       "      <td>...</td>\n",
       "      <td>1</td>\n",
       "      <td>0</td>\n",
       "      <td>1</td>\n",
       "      <td>3</td>\n",
       "      <td>1</td>\n",
       "      <td>0</td>\n",
       "      <td>0</td>\n",
       "      <td>1</td>\n",
       "      <td>0</td>\n",
       "      <td>0</td>\n",
       "    </tr>\n",
       "    <tr>\n",
       "      <th>6720</th>\n",
       "      <td>0</td>\n",
       "      <td>0</td>\n",
       "      <td>1</td>\n",
       "      <td>1</td>\n",
       "      <td>0</td>\n",
       "      <td>1</td>\n",
       "      <td>0</td>\n",
       "      <td>0</td>\n",
       "      <td>0</td>\n",
       "      <td>1</td>\n",
       "      <td>...</td>\n",
       "      <td>1</td>\n",
       "      <td>0</td>\n",
       "      <td>1</td>\n",
       "      <td>2</td>\n",
       "      <td>1</td>\n",
       "      <td>0</td>\n",
       "      <td>0</td>\n",
       "      <td>1</td>\n",
       "      <td>0</td>\n",
       "      <td>0</td>\n",
       "    </tr>\n",
       "    <tr>\n",
       "      <th>6722</th>\n",
       "      <td>0</td>\n",
       "      <td>0</td>\n",
       "      <td>1</td>\n",
       "      <td>0</td>\n",
       "      <td>0</td>\n",
       "      <td>0</td>\n",
       "      <td>1</td>\n",
       "      <td>0</td>\n",
       "      <td>0</td>\n",
       "      <td>1</td>\n",
       "      <td>...</td>\n",
       "      <td>0</td>\n",
       "      <td>1</td>\n",
       "      <td>1</td>\n",
       "      <td>2</td>\n",
       "      <td>1</td>\n",
       "      <td>0</td>\n",
       "      <td>0</td>\n",
       "      <td>0</td>\n",
       "      <td>1</td>\n",
       "      <td>0</td>\n",
       "    </tr>\n",
       "    <tr>\n",
       "      <th>6724</th>\n",
       "      <td>0</td>\n",
       "      <td>0</td>\n",
       "      <td>1</td>\n",
       "      <td>1</td>\n",
       "      <td>0</td>\n",
       "      <td>0</td>\n",
       "      <td>1</td>\n",
       "      <td>0</td>\n",
       "      <td>0</td>\n",
       "      <td>1</td>\n",
       "      <td>...</td>\n",
       "      <td>1</td>\n",
       "      <td>0</td>\n",
       "      <td>1</td>\n",
       "      <td>2</td>\n",
       "      <td>1</td>\n",
       "      <td>0</td>\n",
       "      <td>0</td>\n",
       "      <td>1</td>\n",
       "      <td>0</td>\n",
       "      <td>0</td>\n",
       "    </tr>\n",
       "  </tbody>\n",
       "</table>\n",
       "<p>2629 rows × 29 columns</p>\n",
       "</div>"
      ],
      "text/plain": [
       "      metastasis  tneg  invasive  breast_chest_radi  nodal_radi  chemo  \\\n",
       "4              0     0         1                  1           0      0   \n",
       "58             0     0         1                  1           0      0   \n",
       "60             0     0         1                  1           0      0   \n",
       "104            0     0         1                  0           0      0   \n",
       "110            0     0         1                  1           0      0   \n",
       "...          ...   ...       ...                ...         ...    ...   \n",
       "6716           0     1         1                  1           0      0   \n",
       "6718           0     1         1                  1           0      0   \n",
       "6720           0     0         1                  1           0      1   \n",
       "6722           0     0         1                  0           0      0   \n",
       "6724           0     0         1                  1           0      0   \n",
       "\n",
       "      antihormone  her2_inhib  neo  er  ...  tumor_duct  tumor_lobular  size  \\\n",
       "4               1           0    0   1  ...           1              0     1   \n",
       "58              0           0    0   1  ...           1              0     1   \n",
       "60              0           0    0   1  ...           1              0     1   \n",
       "104             0           0    0   1  ...           0              1     1   \n",
       "110             1           0    0   1  ...           1              0     1   \n",
       "...           ...         ...  ...  ..  ...         ...            ...   ...   \n",
       "6716            0           0    0  -1  ...           1              0     1   \n",
       "6718            0           0    0  -1  ...           1              0     1   \n",
       "6720            0           0    0   1  ...           1              0     1   \n",
       "6722            1           0    0   1  ...           0              1     1   \n",
       "6724            1           0    0   1  ...           1              0     1   \n",
       "\n",
       "      grade  surgery_no_residual  surgery_residual  no primary site  \\\n",
       "4         2                    1                 0                0   \n",
       "58        2                    1                 0                0   \n",
       "60        2                    1                 0                0   \n",
       "104       1                    1                 0                0   \n",
       "110       2                    1                 0                0   \n",
       "...     ...                  ...               ...              ...   \n",
       "6716      2                    1                 0                0   \n",
       "6718      3                    1                 0                0   \n",
       "6720      2                    1                 0                0   \n",
       "6722      2                    1                 0                0   \n",
       "6724      2                    1                 0                0   \n",
       "\n",
       "      conservation_surgery  mastectomy_surgery  no_surgery  \n",
       "4                        1                   0           0  \n",
       "58                       1                   0           0  \n",
       "60                       1                   0           0  \n",
       "104                      0                   1           0  \n",
       "110                      1                   0           0  \n",
       "...                    ...                 ...         ...  \n",
       "6716                     1                   0           0  \n",
       "6718                     1                   0           0  \n",
       "6720                     1                   0           0  \n",
       "6722                     0                   1           0  \n",
       "6724                     1                   0           0  \n",
       "\n",
       "[2629 rows x 29 columns]"
      ]
     },
     "execution_count": 6,
     "metadata": {},
     "output_type": "execute_result"
    }
   ],
   "source": [
    "duplicateRowsDF = meta_df[meta_df.duplicated()]\n",
    "duplicateRowsDF\n",
    "#meta_df = meta_df.drop_duplicates()"
   ]
  },
  {
   "cell_type": "markdown",
   "id": "supposed-feeling",
   "metadata": {},
   "source": [
    "### Split the data into test and train subsamples"
   ]
  },
  {
   "cell_type": "code",
   "execution_count": 7,
   "id": "experienced-waste",
   "metadata": {},
   "outputs": [],
   "source": [
    "from sklearn.metrics import accuracy_score\n",
    "from sklearn.metrics import f1_score\n",
    "from sklearn.metrics import confusion_matrix\n",
    "from sklearn.metrics import classification_report\n",
    "from sklearn.model_selection import train_test_split\n",
    "from sklearn.model_selection import validation_curve\n",
    "from sklearn.model_selection import GridSearchCV\n",
    "from sklearn.ensemble import RandomForestClassifier\n",
    "from sklearn import preprocessing\n",
    "from pprint import pprint"
   ]
  },
  {
   "cell_type": "markdown",
   "id": "strong-perfume",
   "metadata": {},
   "source": [
    "y = meta_df.metastasis\n",
    "X = meta_df.drop('metastasis', axis=1)\n",
    "X_train, X_test, y_train, y_test = train_test_split(X, y, test_size=.2, random_state=1)"
   ]
  },
  {
   "cell_type": "code",
   "execution_count": 8,
   "id": "tutorial-advocacy",
   "metadata": {},
   "outputs": [],
   "source": [
    "y0 = meta_df[meta_df['metastasis']==0].metastasis.values\n",
    "X0 = meta_df[meta_df['metastasis']==0].drop('metastasis', axis=1).values\n",
    "\n",
    "X0_train, X0_test, y0_train, y0_test = train_test_split(X0, y0, test_size=.2, random_state=1)\n",
    "\n",
    "y1 = meta_df[meta_df['metastasis']==1].metastasis.values\n",
    "X1 = meta_df[meta_df['metastasis']==1].drop('metastasis', axis=1).values\n",
    "\n",
    "X1_train, X1_test, y1_train, y1_test = train_test_split(X1, y1, test_size=.2, random_state=1)\n",
    "\n",
    "X_train = np.concatenate((X0_train, X1_train))\n",
    "X_test = np.concatenate((X0_test, X1_test))\n",
    "y_train = np.concatenate((y0_train, y1_train))\n",
    "y_test = np.concatenate((y0_test, y1_test))"
   ]
  },
  {
   "cell_type": "markdown",
   "id": "artificial-government",
   "metadata": {},
   "source": [
    "#### Building the model with default parameters"
   ]
  },
  {
   "cell_type": "code",
   "execution_count": 9,
   "id": "cathedral-wrestling",
   "metadata": {},
   "outputs": [
    {
     "name": "stdout",
     "output_type": "stream",
     "text": [
      "Random Forest: Accuracy=0.921\n",
      "Random Forest: f1-score=0.899\n",
      "Parameters currently in use:\n",
      "\n",
      "{'bootstrap': True,\n",
      " 'ccp_alpha': 0.0,\n",
      " 'class_weight': None,\n",
      " 'criterion': 'gini',\n",
      " 'max_depth': None,\n",
      " 'max_features': 'auto',\n",
      " 'max_leaf_nodes': None,\n",
      " 'max_samples': None,\n",
      " 'min_impurity_decrease': 0.0,\n",
      " 'min_impurity_split': None,\n",
      " 'min_samples_leaf': 1,\n",
      " 'min_samples_split': 2,\n",
      " 'min_weight_fraction_leaf': 0.0,\n",
      " 'n_estimators': 100,\n",
      " 'n_jobs': None,\n",
      " 'oob_score': False,\n",
      " 'random_state': 1,\n",
      " 'verbose': 0,\n",
      " 'warm_start': False}\n"
     ]
    }
   ],
   "source": [
    "#scale the data\n",
    "scaler = preprocessing.StandardScaler().fit(X_train)\n",
    "X_train_scaled=scaler.transform(X_train)\n",
    "X_test_scaled=scaler.transform(X_test)\n",
    "#Random Forest Classifier\n",
    "clf = RandomForestClassifier(random_state = 1)\n",
    "#fit the model\n",
    "model_res = clf.fit(X_train_scaled, y_train)\n",
    "#Predict on test data\n",
    "y_pred = model_res.predict(X_test_scaled)\n",
    "#Obtain the predition probabilities\n",
    "y_pred_prob = model_res.predict_proba(X_test_scaled)\n",
    "lr_probs = y_pred_prob[:,1]\n",
    "#Get the accuracy scores\n",
    "ac = accuracy_score(y_test, y_pred)\n",
    "f1 = f1_score(y_test, y_pred, average='weighted')\n",
    "cm = confusion_matrix(y_test, y_pred)\n",
    "#Print results and default parameters\n",
    "print('Random Forest: Accuracy=%.3f' % (ac))\n",
    "print('Random Forest: f1-score=%.3f' % (f1))\n",
    "print('Parameters currently in use:\\n')\n",
    "pprint(clf.get_params())"
   ]
  },
  {
   "cell_type": "markdown",
   "id": "everyday-brighton",
   "metadata": {},
   "source": [
    "#### Tunning the hiperparameters of the model"
   ]
  },
  {
   "cell_type": "code",
   "execution_count": 10,
   "id": "ecological-translator",
   "metadata": {},
   "outputs": [],
   "source": [
    "random_grid = {}"
   ]
  },
  {
   "cell_type": "code",
   "execution_count": 11,
   "id": "unauthorized-wonder",
   "metadata": {},
   "outputs": [],
   "source": [
    "#I am chossing cv=10 because, without duplicates, the amount of metastazed patients are 12% and 88% are metastazed free \n",
    "#This way, I ensure there is always representation for metastazed patients.\n",
    "def validate(param_name, param_range, cv=5):\n",
    "    train_scoreNum, test_scoreNum = validation_curve(\n",
    "                                RandomForestClassifier(),\n",
    "                                X = X_train, y = y_train, \n",
    "                                param_name = param_name, \n",
    "                                param_range = param_range, cv = cv)\n",
    "    return train_scoreNum, test_scoreNum"
   ]
  },
  {
   "cell_type": "code",
   "execution_count": 12,
   "id": "active-tension",
   "metadata": {},
   "outputs": [],
   "source": [
    "def plot_param(train_scoreNum, test_scoreNum):\n",
    "    train_scoreNum = train_scoreNum * 100\n",
    "    test_scoreNum = test_scoreNum * 100\n",
    "    train_scores_mean = np.mean(train_scoreNum, axis=1)\n",
    "    train_scores_std = np.std(train_scoreNum, axis=1)\n",
    "    test_scores_mean = np.mean(test_scoreNum, axis=1)\n",
    "    test_scores_std = np.std(test_scoreNum, axis=1)\n",
    "\n",
    "    plt.title(\"Validation Curve with RandomForestClassifier\")\n",
    "    plt.xlabel(param_name)\n",
    "    plt.ylabel(\"Accuracy Score %\")\n",
    "    plt.ylim(test_scoreNum.min(), train_scoreNum.max())\n",
    "    lw = 1\n",
    "    plt.semilogx(param_range, train_scores_mean, label=\"Training score\", color=\"darkorange\")\n",
    "    plt.fill_between(param_range, train_scores_mean - train_scores_std,\n",
    "                 train_scores_mean + train_scores_std, alpha=0.2,\n",
    "                 color=\"darkorange\")\n",
    "    plt.semilogx(param_range, test_scores_mean, label=\"Cross-validation score\", color=\"navy\")\n",
    "    plt.fill_between(param_range, test_scores_mean - test_scores_std,\n",
    "                 test_scores_mean + test_scores_std, alpha=0.2,\n",
    "                 color=\"navy\")\n",
    "    plt.legend(loc=\"best\")\n",
    "    plt.rcParams[\"figure.figsize\"] = (20,5)\n",
    "    plt.grid(axis='both')\n",
    "    plt.show()"
   ]
  },
  {
   "cell_type": "code",
   "execution_count": 13,
   "id": "pretty-appliance",
   "metadata": {},
   "outputs": [],
   "source": [
    "def print_scores(scores, range):\n",
    "    print(\"     cv=1       cv=2       cv=3       cv=4       cv=5\")\n",
    "    for row in zip(scores, range):\n",
    "        print(row[1], row[0].mean())"
   ]
  },
  {
   "cell_type": "markdown",
   "id": "honey-supervisor",
   "metadata": {},
   "source": [
    "##### class_weight"
   ]
  },
  {
   "cell_type": "code",
   "execution_count": 14,
   "id": "foreign-belgium",
   "metadata": {},
   "outputs": [
    {
     "name": "stdout",
     "output_type": "stream",
     "text": [
      "train_scoreNum\n",
      "     cv=1       cv=2       cv=3       cv=4       cv=5\n",
      "{0: 0.08, 1: 0.92} 0.9805762081784387\n",
      "{0: 0.12421052631578948, 1: 0.8757894736842106} 0.982620817843866\n",
      "{0: 0.16842105263157897, 1: 0.831578947368421} 0.9835966542750929\n",
      "{0: 0.21263157894736845, 1: 0.7873684210526315} 0.9844795539033457\n",
      "{0: 0.2568421052631579, 1: 0.743157894736842} 0.9849907063197026\n",
      "{0: 0.3010526315789474, 1: 0.6989473684210525} 0.9851765799256504\n",
      "{0: 0.3452631578947369, 1: 0.6547368421052631} 0.9851765799256507\n",
      "{0: 0.38947368421052636, 1: 0.6105263157894736} 0.9852230483271377\n",
      "{0: 0.43368421052631584, 1: 0.5663157894736841} 0.9852695167286246\n",
      "{0: 0.4778947368421053, 1: 0.5221052631578946} 0.9852695167286246\n",
      "{0: 0.5221052631578947, 1: 0.47789473684210526} 0.9852695167286246\n",
      "{0: 0.5663157894736842, 1: 0.4336842105263158} 0.9852695167286246\n",
      "{0: 0.6105263157894737, 1: 0.3894736842105263} 0.9852695167286246\n",
      "{0: 0.6547368421052632, 1: 0.3452631578947368} 0.9852695167286246\n",
      "{0: 0.6989473684210527, 1: 0.30105263157894735} 0.9852695167286246\n",
      "{0: 0.7431578947368421, 1: 0.25684210526315787} 0.9851301115241636\n",
      "{0: 0.7873684210526316, 1: 0.2126315789473684} 0.9850371747211895\n",
      "{0: 0.8315789473684211, 1: 0.16842105263157892} 0.9849442379182157\n",
      "{0: 0.8757894736842106, 1: 0.12421052631578944} 0.9848977695167285\n",
      "{0: 0.92, 1: 0.07999999999999996} 0.9848048327137546\n",
      "test_scoreNum\n",
      "     cv=1       cv=2       cv=3       cv=4       cv=5\n",
      "{0: 0.08, 1: 0.92} 0.9092936802973977\n",
      "{0: 0.12421052631578948, 1: 0.8757894736842106} 0.9113382899628254\n",
      "{0: 0.16842105263157897, 1: 0.831578947368421} 0.9120817843866172\n",
      "{0: 0.21263157894736845, 1: 0.7873684210526315} 0.912639405204461\n",
      "{0: 0.2568421052631579, 1: 0.743157894736842} 0.9131970260223048\n",
      "{0: 0.3010526315789474, 1: 0.6989473684210525} 0.9148698884758364\n",
      "{0: 0.3452631578947369, 1: 0.6547368421052631} 0.9135687732342006\n",
      "{0: 0.38947368421052636, 1: 0.6105263157894736} 0.9143122676579927\n",
      "{0: 0.43368421052631584, 1: 0.5663157894736841} 0.9156133828996282\n",
      "{0: 0.4778947368421053, 1: 0.5221052631578946} 0.91635687732342\n",
      "{0: 0.5221052631578947, 1: 0.47789473684210526} 0.9161710037174722\n",
      "{0: 0.5663157894736842, 1: 0.4336842105263158} 0.9176579925650559\n",
      "{0: 0.6105263157894737, 1: 0.3894736842105263} 0.9169144981412639\n",
      "{0: 0.6547368421052632, 1: 0.3452631578947368} 0.9163568773234202\n",
      "{0: 0.6989473684210527, 1: 0.30105263157894735} 0.9167286245353161\n",
      "{0: 0.7431578947368421, 1: 0.25684210526315787} 0.9161710037174722\n",
      "{0: 0.7873684210526316, 1: 0.2126315789473684} 0.91635687732342\n",
      "{0: 0.8315789473684211, 1: 0.16842105263157892} 0.9159851301115243\n",
      "{0: 0.8757894736842106, 1: 0.12421052631578944} 0.9152416356877324\n",
      "{0: 0.92, 1: 0.07999999999999996} 0.9171003717472119\n"
     ]
    }
   ],
   "source": [
    "param_name = 'class_weight'\n",
    "weights = np.linspace(0.08, 0.92, 20)\n",
    "param_range = [{0: x, 1: 1.0-x} for x in weights]\n",
    "\n",
    "train_scoreNum, test_scoreNum = validate(param_name, param_range)\n",
    "print(\"train_scoreNum\")\n",
    "print_scores(train_scoreNum, param_range)\n",
    "print(\"test_scoreNum\")\n",
    "print_scores(test_scoreNum, param_range)"
   ]
  },
  {
   "cell_type": "code",
   "execution_count": 15,
   "id": "cubic-retro",
   "metadata": {},
   "outputs": [],
   "source": [
    "#Adding the parameter to the dictionary\n",
    "random_grid['class_weight'] = [{0:0.56, 1:0.44}]"
   ]
  },
  {
   "cell_type": "markdown",
   "id": "maritime-syntax",
   "metadata": {},
   "source": [
    "##### criterion"
   ]
  },
  {
   "cell_type": "code",
   "execution_count": 16,
   "id": "fourth-finance",
   "metadata": {},
   "outputs": [
    {
     "name": "stdout",
     "output_type": "stream",
     "text": [
      "train_scoreNum\n",
      "     cv=1       cv=2       cv=3       cv=4       cv=5\n",
      "gini 0.9852230483271376\n",
      "entropy 0.9851301115241636\n",
      "test_scoreNum\n",
      "     cv=1       cv=2       cv=3       cv=4       cv=5\n",
      "gini 0.9167286245353161\n",
      "entropy 0.9154275092936803\n"
     ]
    },
    {
     "data": {
      "image/png": "[encoded data removed]",
      "text/plain": [
       "<Figure size 432x288 with 1 Axes>"
      ]
     },
     "metadata": {
      "needs_background": "light"
     },
     "output_type": "display_data"
    }
   ],
   "source": [
    "param_name = 'criterion'\n",
    "param_range = ['gini','entropy']\n",
    "\n",
    "train_scoreNum, test_scoreNum = validate(param_name, param_range)\n",
    "print(\"train_scoreNum\")\n",
    "print_scores(train_scoreNum, param_range)\n",
    "print(\"test_scoreNum\")\n",
    "print_scores(test_scoreNum, param_range)\n",
    "plot_param(train_scoreNum, test_scoreNum)"
   ]
  },
  {
   "cell_type": "code",
   "execution_count": 17,
   "id": "entertaining-bundle",
   "metadata": {},
   "outputs": [],
   "source": [
    "#Adding the parameter to the dictionary\n",
    "random_grid['criterion'] = ['entropy']"
   ]
  },
  {
   "cell_type": "markdown",
   "id": "fabulous-savannah",
   "metadata": {},
   "source": [
    "##### max_depth"
   ]
  },
  {
   "cell_type": "code",
   "execution_count": 18,
   "id": "korean-cleaners",
   "metadata": {},
   "outputs": [
    {
     "name": "stdout",
     "output_type": "stream",
     "text": [
      "train_scoreNum\n",
      "     cv=1       cv=2       cv=3       cv=4       cv=5\n",
      "1 0.9208178438661709\n",
      "2 0.9208178438661709\n",
      "3 0.9208178438661709\n",
      "4 0.92114312267658\n",
      "5 0.9228624535315983\n",
      "6 0.9248605947955391\n",
      "7 0.929042750929368\n",
      "8 0.9346189591078067\n",
      "9 0.9403810408921933\n",
      "10 0.9480947955390334\n",
      "11 0.9550650557620818\n",
      "12 0.962732342007435\n",
      "13 0.9693308550185874\n",
      "14 0.9741635687732343\n",
      "15 0.979182156133829\n",
      "16 0.9815055762081786\n",
      "17 0.98364312267658\n",
      "18 0.9843401486988848\n",
      "19 0.9850836431226766\n",
      "20 0.9851301115241636\n",
      "21 0.9852230483271376\n",
      "22 0.9852230483271376\n",
      "23 0.9852695167286246\n",
      "24 0.9852230483271376\n",
      "25 0.9852695167286246\n",
      "26 0.9852230483271377\n",
      "27 0.9852695167286246\n",
      "test_scoreNum\n",
      "     cv=1       cv=2       cv=3       cv=4       cv=5\n",
      "1 0.9208178438661709\n",
      "2 0.9208178438661709\n",
      "3 0.9208178438661709\n",
      "4 0.9206319702602231\n",
      "5 0.9213754646840149\n",
      "6 0.9217472118959108\n",
      "7 0.9217472118959108\n",
      "8 0.9224907063197026\n",
      "9 0.9232342007434944\n",
      "10 0.9243494423791822\n",
      "11 0.9234200743494423\n",
      "12 0.9221189591078067\n",
      "13 0.9223048327137546\n",
      "14 0.9210037174721191\n",
      "15 0.9210037174721191\n",
      "16 0.9195167286245353\n",
      "17 0.9182156133828997\n",
      "18 0.9185873605947956\n",
      "19 0.9167286245353161\n",
      "20 0.9167286245353161\n",
      "21 0.9150557620817843\n",
      "22 0.9157992565055763\n",
      "23 0.91635687732342\n",
      "24 0.9152416356877323\n",
      "25 0.9176579925650558\n",
      "26 0.9165427509293679\n",
      "27 0.915985130111524\n"
     ]
    },
    {
     "data": {
      "image/png": "[encoded data removed]",
      "text/plain": [
       "<Figure size 1440x360 with 1 Axes>"
      ]
     },
     "metadata": {
      "needs_background": "light"
     },
     "output_type": "display_data"
    }
   ],
   "source": [
    "param_name = 'max_depth'\n",
    "param_range = [int(x) for x in np.linspace(1, 27, num = 27)]\n",
    "\n",
    "train_scoreNum, test_scoreNum = validate(param_name, param_range)\n",
    "print(\"train_scoreNum\")\n",
    "print_scores(train_scoreNum, param_range)\n",
    "print(\"test_scoreNum\")\n",
    "print_scores(test_scoreNum, param_range)\n",
    "#param_range = param_range[:-1]\n",
    "plot_param(train_scoreNum, test_scoreNum)"
   ]
  },
  {
   "cell_type": "code",
   "execution_count": 19,
   "id": "retained-refund",
   "metadata": {},
   "outputs": [],
   "source": [
    "#Adding the parameter to the dictionary\n",
    "random_grid['max_depth'] = [9, 11, 13, 15]"
   ]
  },
  {
   "cell_type": "markdown",
   "id": "processed-sampling",
   "metadata": {},
   "source": [
    "##### min_samples_leaf"
   ]
  },
  {
   "cell_type": "code",
   "execution_count": 20,
   "id": "gorgeous-scratch",
   "metadata": {},
   "outputs": [
    {
     "name": "stdout",
     "output_type": "stream",
     "text": [
      "train_scoreNum\n",
      "     cv=1       cv=2       cv=3       cv=4       cv=5\n",
      "1 0.9852230483271376\n",
      "2 0.9396840148698885\n",
      "4 0.9264869888475836\n",
      "test_scoreNum\n",
      "     cv=1       cv=2       cv=3       cv=4       cv=5\n",
      "1 0.916542750929368\n",
      "2 0.9224907063197026\n",
      "4 0.9217472118959108\n"
     ]
    },
    {
     "data": {
      "image/png": "[encoded data removed]",
      "text/plain": [
       "<Figure size 1440x360 with 1 Axes>"
      ]
     },
     "metadata": {
      "needs_background": "light"
     },
     "output_type": "display_data"
    }
   ],
   "source": [
    "param_name = 'min_samples_leaf'\n",
    "param_range = [1, 2, 4]\n",
    "\n",
    "train_scoreNum, test_scoreNum = validate(param_name, param_range)\n",
    "print(\"train_scoreNum\")\n",
    "print_scores(train_scoreNum, param_range)\n",
    "print(\"test_scoreNum\")\n",
    "print_scores(test_scoreNum, param_range)\n",
    "plot_param(train_scoreNum, test_scoreNum)"
   ]
  },
  {
   "cell_type": "code",
   "execution_count": 21,
   "id": "decent-dragon",
   "metadata": {},
   "outputs": [],
   "source": [
    "#Adding the parameter to the dictionary\n",
    "random_grid['min_samples_leaf'] = [1, 2]"
   ]
  },
  {
   "cell_type": "markdown",
   "id": "continental-chambers",
   "metadata": {},
   "source": [
    "##### min_samples_split"
   ]
  },
  {
   "cell_type": "code",
   "execution_count": 22,
   "id": "dutch-communications",
   "metadata": {},
   "outputs": [
    {
     "name": "stdout",
     "output_type": "stream",
     "text": [
      "train_scoreNum\n",
      "     cv=1       cv=2       cv=3       cv=4       cv=5\n",
      "2 0.9852230483271376\n",
      "4 0.9603624535315985\n",
      "5 0.9523234200743493\n",
      "6 0.9472118959107807\n",
      "8 0.9411710037174721\n",
      "10 0.9361988847583642\n",
      "test_scoreNum\n",
      "     cv=1       cv=2       cv=3       cv=4       cv=5\n",
      "2 0.9161710037174722\n",
      "4 0.9215613382899628\n",
      "5 0.9228624535315986\n",
      "6 0.9232342007434944\n",
      "8 0.9217472118959107\n",
      "10 0.9232342007434944\n"
     ]
    },
    {
     "data": {
      "image/png": "[encoded data removed]",
      "text/plain": [
       "<Figure size 1440x360 with 1 Axes>"
      ]
     },
     "metadata": {
      "needs_background": "light"
     },
     "output_type": "display_data"
    }
   ],
   "source": [
    "param_name = 'min_samples_split'\n",
    "param_range = [2, 4, 5, 6, 8, 10]\n",
    "\n",
    "train_scoreNum, test_scoreNum = validate(param_name, param_range)\n",
    "print(\"train_scoreNum\")\n",
    "print_scores(train_scoreNum, param_range)\n",
    "print(\"test_scoreNum\")\n",
    "print_scores(test_scoreNum, param_range)\n",
    "plot_param(train_scoreNum, test_scoreNum)"
   ]
  },
  {
   "cell_type": "code",
   "execution_count": 23,
   "id": "metric-processing",
   "metadata": {},
   "outputs": [],
   "source": [
    "#Adding the parameter to the dictionary\n",
    "random_grid['min_samples_split'] = [2, 6]"
   ]
  },
  {
   "cell_type": "markdown",
   "id": "solar-bowling",
   "metadata": {},
   "source": [
    "##### n_estimators"
   ]
  },
  {
   "cell_type": "code",
   "execution_count": 24,
   "id": "velvet-brief",
   "metadata": {},
   "outputs": [
    {
     "name": "stdout",
     "output_type": "stream",
     "text": [
      "train_scoreNum\n",
      "     cv=1       cv=2       cv=3       cv=4       cv=5\n",
      "100 0.9852230483271377\n",
      "150 0.9852695167286246\n",
      "200 0.9852230483271376\n",
      "250 0.9852695167286246\n",
      "300 0.9852695167286246\n",
      "350 0.9852695167286246\n",
      "400 0.9852695167286246\n",
      "500 0.9852695167286246\n",
      "600 0.9852695167286246\n",
      "test_scoreNum\n",
      "     cv=1       cv=2       cv=3       cv=4       cv=5\n",
      "100 0.9152416356877323\n",
      "150 0.9159851301115243\n",
      "200 0.9171003717472118\n",
      "250 0.9169144981412639\n",
      "300 0.9169144981412639\n",
      "350 0.9174721189591079\n",
      "400 0.9169144981412639\n",
      "500 0.9169144981412639\n",
      "600 0.91635687732342\n"
     ]
    },
    {
     "data": {
      "image/png": "[encoded data removed]",
      "text/plain": [
       "<Figure size 1440x360 with 1 Axes>"
      ]
     },
     "metadata": {
      "needs_background": "light"
     },
     "output_type": "display_data"
    }
   ],
   "source": [
    "param_name = 'n_estimators'\n",
    "param_range = [100, 150, 200, 250, 300, 350, 400, 500, 600]\n",
    "\n",
    "train_scoreNum, test_scoreNum = validate(param_name, param_range)\n",
    "print(\"train_scoreNum\")\n",
    "print_scores(train_scoreNum, param_range)\n",
    "print(\"test_scoreNum\")\n",
    "print_scores(test_scoreNum, param_range)\n",
    "plot_param(train_scoreNum, test_scoreNum)"
   ]
  },
  {
   "cell_type": "code",
   "execution_count": 25,
   "id": "sorted-dinner",
   "metadata": {},
   "outputs": [],
   "source": [
    "#Adding the parameter to the dictionary\n",
    "random_grid['n_estimators'] = [250, 300]"
   ]
  },
  {
   "cell_type": "markdown",
   "id": "smart-scanner",
   "metadata": {},
   "source": [
    "### Setup the GridSearchCV"
   ]
  },
  {
   "cell_type": "code",
   "execution_count": 26,
   "id": "large-manhattan",
   "metadata": {},
   "outputs": [
    {
     "name": "stdout",
     "output_type": "stream",
     "text": [
      "{'class_weight': [{0: 0.56, 1: 0.44}],\n",
      " 'criterion': ['entropy'],\n",
      " 'max_depth': [9, 11, 13, 15],\n",
      " 'min_samples_leaf': [1, 2],\n",
      " 'min_samples_split': [2, 6],\n",
      " 'n_estimators': [250, 300]}\n"
     ]
    }
   ],
   "source": [
    "# These are the parameters to test\n",
    "pprint(random_grid)"
   ]
  },
  {
   "cell_type": "code",
   "execution_count": 27,
   "id": "portable-sweden",
   "metadata": {},
   "outputs": [],
   "source": [
    "clf_cv = GridSearchCV(clf, random_grid, cv=5)\n",
    "clf_cv.fit(X_train, y_train)\n",
    "# Predict the labels of the test set: y_pred\n",
    "y_pred = clf_cv.predict(X_test)"
   ]
  },
  {
   "cell_type": "code",
   "execution_count": 28,
   "id": "functional-orange",
   "metadata": {},
   "outputs": [
    {
     "name": "stdout",
     "output_type": "stream",
     "text": [
      "Tuned Random Forest Parameter: {'class_weight': {0: 0.56, 1: 0.44}, 'criterion': 'entropy', 'max_depth': 11, 'min_samples_leaf': 1, 'min_samples_split': 2, 'n_estimators': 300}\n",
      "Tuned Random Forest Accuracy: 0.9237918215613383\n",
      "Accuracy: 0.924219910846954\n",
      "Classification report\n",
      "              precision    recall  f1-score   support\n",
      "\n",
      "           0       0.93      1.00      0.96      1239\n",
      "           1       0.73      0.07      0.14       107\n",
      "\n",
      "    accuracy                           0.92      1346\n",
      "   macro avg       0.83      0.54      0.55      1346\n",
      "weighted avg       0.91      0.92      0.89      1346\n",
      "\n",
      "Confusion Matrix\n",
      "[[1236    3]\n",
      " [  99    8]]\n"
     ]
    }
   ],
   "source": [
    "print(\"Tuned Random Forest Parameter: {}\".format(clf_cv.best_params_))\n",
    "print(\"Tuned Random Forest Accuracy: {}\".format(clf_cv.best_score_))\n",
    "print(\"Accuracy: {}\".format(clf_cv.score(X_test, y_test)))\n",
    "print(\"Classification report\")\n",
    "print(classification_report(y_test, y_pred))\n",
    "print(\"Confusion Matrix\")\n",
    "print(confusion_matrix(y_test, y_pred))"
   ]
  },
  {
   "cell_type": "code",
   "execution_count": 31,
   "id": "friendly-belgium",
   "metadata": {},
   "outputs": [
    {
     "name": "stdout",
     "output_type": "stream",
     "text": [
      "28\n"
     ]
    },
    {
     "data": {
      "image/png": "[encoded data removed]",
      "text/plain": [
       "<Figure size 720x720 with 1 Axes>"
      ]
     },
     "metadata": {
      "needs_background": "light"
     },
     "output_type": "display_data"
    }
   ],
   "source": [
    "#Plot feature importances\n",
    "feature_importance = clf.feature_importances_\n",
    "# make importances relative to max importance\n",
    "feature_importance = 100.0 * (feature_importance / feature_importance.max())\n",
    "sorted_idx = np.argsort(feature_importance)\n",
    "\n",
    "pos = np.arange(sorted_idx.shape[0]) + .5\n",
    "sorted_idx.size\n",
    "plt.figure(figsize=(10,10))\n",
    "plt.barh(pos, feature_importance[sorted_idx], align='center')\n",
    "plt.yticks(pos, meta_df.columns[sorted_idx])\n",
    "plt.xlabel('Relative Importance')\n",
    "plt.title('Variable Importance')\n",
    "plt.show()"
   ]
  },
  {
   "cell_type": "code",
   "execution_count": null,
   "id": "played-static",
   "metadata": {},
   "outputs": [],
   "source": []
  }
 ],
 "metadata": {
  "kernelspec": {
   "display_name": "Python 3",
   "language": "python",
   "name": "python3"
  },
  "language_info": {
   "codemirror_mode": {
    "name": "ipython",
    "version": 3
   },
   "file_extension": ".py",
   "mimetype": "text/x-python",
   "name": "python",
   "nbconvert_exporter": "python",
   "pygments_lexer": "ipython3",
   "version": "3.6.6"
  }
 },
 "nbformat": 4,
 "nbformat_minor": 5
}
