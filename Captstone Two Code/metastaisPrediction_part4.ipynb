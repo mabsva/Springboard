{
 "cells": [
  {
   "cell_type": "markdown",
   "id": "pregnant-kansas",
   "metadata": {},
   "source": [
    "## Pre-Processing and Training Data"
   ]
  },
  {
   "cell_type": "code",
   "execution_count": 1,
   "id": "threaded-poverty",
   "metadata": {},
   "outputs": [],
   "source": [
    "#Importing all the libraries I believe I will be using\n",
    "import pandas as pd\n",
    "import matplotlib.pyplot as plt\n",
    "import seaborn as sns\n",
    "import numpy as np\n",
    "import os\n",
    "\n",
    "from library.sb_utils import save_file"
   ]
  },
  {
   "cell_type": "code",
   "execution_count": 2,
   "id": "recreational-winning",
   "metadata": {},
   "outputs": [],
   "source": [
    "meta_df = pd.read_csv('SourceFiles/numerical_data.csv')"
   ]
  },
  {
   "cell_type": "code",
   "execution_count": 3,
   "id": "violent-birth",
   "metadata": {},
   "outputs": [
    {
     "name": "stdout",
     "output_type": "stream",
     "text": [
      "<class 'pandas.core.frame.DataFrame'>\n",
      "RangeIndex: 6726 entries, 0 to 6725\n",
      "Data columns (total 29 columns):\n",
      " #   Column                Non-Null Count  Dtype\n",
      "---  ------                --------------  -----\n",
      " 0   metastasis            6726 non-null   int64\n",
      " 1   tneg                  6726 non-null   int64\n",
      " 2   invasive              6726 non-null   int64\n",
      " 3   breast_chest_radi     6726 non-null   int64\n",
      " 4   nodal_radi            6726 non-null   int64\n",
      " 5   chemo                 6726 non-null   int64\n",
      " 6   antihormone           6726 non-null   int64\n",
      " 7   her2_inhib            6726 non-null   int64\n",
      " 8   neo                   6726 non-null   int64\n",
      " 9   er                    6726 non-null   int64\n",
      " 10  pr                    6726 non-null   int64\n",
      " 11  p53                   6726 non-null   int64\n",
      " 12  her2                  6726 non-null   int64\n",
      " 13  node_status           6726 non-null   int64\n",
      " 14  age                   6726 non-null   int64\n",
      " 15  menopause             6726 non-null   int64\n",
      " 16  node_positive         6726 non-null   int64\n",
      " 17  stage                 6726 non-null   int64\n",
      " 18  node_removed          6726 non-null   int64\n",
      " 19  tumor_duct            6726 non-null   int64\n",
      " 20  tumor_lobular         6726 non-null   int64\n",
      " 21  size                  6726 non-null   int64\n",
      " 22  grade                 6726 non-null   int64\n",
      " 23  surgery_no_residual   6726 non-null   int64\n",
      " 24  surgery_residual      6726 non-null   int64\n",
      " 25  no primary site       6726 non-null   int64\n",
      " 26  conservation_surgery  6726 non-null   int64\n",
      " 27  mastectomy_surgery    6726 non-null   int64\n",
      " 28  no_surgery            6726 non-null   int64\n",
      "dtypes: int64(29)\n",
      "memory usage: 1.5 MB\n"
     ]
    }
   ],
   "source": [
    "#as we can see, there are only numeric fields left in the Dataframe, netiher are null values left\n",
    "meta_df.info()"
   ]
  },
  {
   "cell_type": "code",
   "execution_count": 4,
   "id": "golden-herald",
   "metadata": {},
   "outputs": [
    {
     "data": {
      "text/html": [
       "<div>\n",
       "<style scoped>\n",
       "    .dataframe tbody tr th:only-of-type {\n",
       "        vertical-align: middle;\n",
       "    }\n",
       "\n",
       "    .dataframe tbody tr th {\n",
       "        vertical-align: top;\n",
       "    }\n",
       "\n",
       "    .dataframe thead th {\n",
       "        text-align: right;\n",
       "    }\n",
       "</style>\n",
       "<table border=\"1\" class=\"dataframe\">\n",
       "  <thead>\n",
       "    <tr style=\"text-align: right;\">\n",
       "      <th></th>\n",
       "      <th>VarName</th>\n",
       "      <th>NullCount</th>\n",
       "    </tr>\n",
       "  </thead>\n",
       "  <tbody>\n",
       "  </tbody>\n",
       "</table>\n",
       "</div>"
      ],
      "text/plain": [
       "Empty DataFrame\n",
       "Columns: [VarName, NullCount]\n",
       "Index: []"
      ]
     },
     "execution_count": 4,
     "metadata": {},
     "output_type": "execute_result"
    }
   ],
   "source": [
    "#Counts of null values\n",
    "na_df=pd.DataFrame(meta_df.isnull().sum().sort_values(ascending=False)).reset_index()\n",
    "na_df.columns = ['VarName', 'NullCount']\n",
    "na_df[(na_df['NullCount']>0)]"
   ]
  },
  {
   "cell_type": "code",
   "execution_count": 5,
   "id": "indie-purpose",
   "metadata": {},
   "outputs": [
    {
     "name": "stdout",
     "output_type": "stream",
     "text": [
      "(6726, 29)\n"
     ]
    },
    {
     "data": {
      "text/plain": [
       "0    6193\n",
       "1     533\n",
       "Name: metastasis, dtype: int64"
      ]
     },
     "execution_count": 5,
     "metadata": {},
     "output_type": "execute_result"
    }
   ],
   "source": [
    "#counts of response variable values\n",
    "print(meta_df.shape)\n",
    "meta_df.metastasis.value_counts()"
   ]
  },
  {
   "cell_type": "markdown",
   "id": "beautiful-harmony",
   "metadata": {},
   "source": [
    "From our data (6726 records), 92% are metastasis free, while 8% presented metastasis"
   ]
  },
  {
   "cell_type": "raw",
   "id": "french-december",
   "metadata": {},
   "source": [
    "#Delete\n",
    "duplicateRowsDF = meta_df[meta_df.duplicated()]\n",
    "duplicateRowsDF\n",
    "meta_df = meta_df.drop_duplicates()"
   ]
  },
  {
   "cell_type": "raw",
   "id": "moderate-testament",
   "metadata": {},
   "source": [
    "#counts of response variable values\n",
    "print(meta_df.shape)\n",
    "meta_df.metastasis.value_counts()"
   ]
  },
  {
   "cell_type": "markdown",
   "id": "geographic-compatibility",
   "metadata": {},
   "source": [
    "After dropping the duplicated records, we got 88% of metastasis free and 12% of metastazed patients"
   ]
  },
  {
   "cell_type": "markdown",
   "id": "supposed-feeling",
   "metadata": {},
   "source": [
    "### Split the data into test and train subsamples"
   ]
  },
  {
   "cell_type": "code",
   "execution_count": 6,
   "id": "experienced-waste",
   "metadata": {},
   "outputs": [],
   "source": [
    "from sklearn.metrics import accuracy_score\n",
    "from sklearn.metrics import f1_score\n",
    "from sklearn.metrics import confusion_matrix\n",
    "from sklearn.metrics import classification_report\n",
    "from sklearn.model_selection import train_test_split\n",
    "from sklearn.model_selection import validation_curve\n",
    "from sklearn.model_selection import GridSearchCV\n",
    "from sklearn.ensemble import RandomForestClassifier\n",
    "from sklearn import preprocessing\n",
    "from pprint import pprint"
   ]
  },
  {
   "cell_type": "markdown",
   "id": "strong-perfume",
   "metadata": {},
   "source": [
    "y = meta_df.metastasis\n",
    "X = meta_df.drop('metastasis', axis=1)\n",
    "X_train, X_test, y_train, y_test = train_test_split(X, y, test_size=.2, random_state=1)"
   ]
  },
  {
   "cell_type": "code",
   "execution_count": 7,
   "id": "tutorial-advocacy",
   "metadata": {},
   "outputs": [],
   "source": [
    "y0 = meta_df[meta_df['metastasis']==0].metastasis.values\n",
    "X0 = meta_df[meta_df['metastasis']==0].drop('metastasis', axis=1).values\n",
    "\n",
    "X0_train, X0_test, y0_train, y0_test = train_test_split(X0, y0, test_size=.2, random_state=1)\n",
    "\n",
    "y1 = meta_df[meta_df['metastasis']==1].metastasis.values\n",
    "X1 = meta_df[meta_df['metastasis']==1].drop('metastasis', axis=1).values\n",
    "\n",
    "X1_train, X1_test, y1_train, y1_test = train_test_split(X1, y1, test_size=.2, random_state=1)\n",
    "\n",
    "X_train = np.concatenate((X0_train, X1_train))\n",
    "X_test = np.concatenate((X0_test, X1_test))\n",
    "y_train = np.concatenate((y0_train, y1_train))\n",
    "y_test = np.concatenate((y0_test, y1_test))"
   ]
  },
  {
   "cell_type": "markdown",
   "id": "artificial-government",
   "metadata": {},
   "source": [
    "#### Building the model with default parameters"
   ]
  },
  {
   "cell_type": "code",
   "execution_count": 8,
   "id": "cathedral-wrestling",
   "metadata": {},
   "outputs": [],
   "source": [
    "#scale the data\n",
    "scaler = preprocessing.StandardScaler().fit(X_train)\n",
    "X_train_scaled=scaler.transform(X_train)\n",
    "X_test_scaled=scaler.transform(X_test)\n",
    "#Random Forest Classifier\n",
    "clf = RandomForestClassifier(random_state = 1)\n",
    "#fit the model\n",
    "model_res = clf.fit(X_train_scaled, y_train)\n",
    "#Predict on test data\n",
    "y_pred = model_res.predict(X_test_scaled)\n",
    "#Obtain the predition probabilities\n",
    "y_pred_prob = model_res.predict_proba(X_test_scaled)\n",
    "lr_probs = y_pred_prob[:,1]\n",
    "#Get the accuracy scores\n",
    "ac = accuracy_score(y_test, y_pred)\n",
    "f1 = f1_score(y_test, y_pred, average='weighted')\n",
    "cm = confusion_matrix(y_test, y_pred)"
   ]
  },
  {
   "cell_type": "code",
   "execution_count": 9,
   "id": "running-guatemala",
   "metadata": {},
   "outputs": [
    {
     "name": "stdout",
     "output_type": "stream",
     "text": [
      "Random Forest: Accuracy=0.921\n",
      "Random Forest: f1-score=0.899\n",
      "Parameters currently in use:\n",
      "\n",
      "{'bootstrap': True,\n",
      " 'ccp_alpha': 0.0,\n",
      " 'class_weight': None,\n",
      " 'criterion': 'gini',\n",
      " 'max_depth': None,\n",
      " 'max_features': 'auto',\n",
      " 'max_leaf_nodes': None,\n",
      " 'max_samples': None,\n",
      " 'min_impurity_decrease': 0.0,\n",
      " 'min_impurity_split': None,\n",
      " 'min_samples_leaf': 1,\n",
      " 'min_samples_split': 2,\n",
      " 'min_weight_fraction_leaf': 0.0,\n",
      " 'n_estimators': 100,\n",
      " 'n_jobs': None,\n",
      " 'oob_score': False,\n",
      " 'random_state': 1,\n",
      " 'verbose': 0,\n",
      " 'warm_start': False}\n",
      "Classification report\n",
      "              precision    recall  f1-score   support\n",
      "\n",
      "           0       0.93      0.99      0.96      1239\n",
      "           1       0.50      0.14      0.22       107\n",
      "\n",
      "    accuracy                           0.92      1346\n",
      "   macro avg       0.72      0.56      0.59      1346\n",
      "weighted avg       0.90      0.92      0.90      1346\n",
      "\n",
      "Confusion Matrix\n",
      "[[1224   15]\n",
      " [  92   15]]\n"
     ]
    }
   ],
   "source": [
    "#Print results and default parameters\n",
    "print('Random Forest: Accuracy=%.3f' % (ac))\n",
    "print('Random Forest: f1-score=%.3f' % (f1))\n",
    "print('Parameters currently in use:\\n')\n",
    "pprint(clf.get_params())\n",
    "print(\"Classification report\")\n",
    "print(classification_report(y_test, y_pred))\n",
    "print(\"Confusion Matrix\")\n",
    "print(confusion_matrix(y_test, y_pred))"
   ]
  },
  {
   "cell_type": "markdown",
   "id": "everyday-brighton",
   "metadata": {},
   "source": [
    "#### Tunning the hiperparameters of the model"
   ]
  },
  {
   "cell_type": "code",
   "execution_count": 10,
   "id": "ecological-translator",
   "metadata": {},
   "outputs": [],
   "source": [
    "random_grid = {}"
   ]
  },
  {
   "cell_type": "code",
   "execution_count": 11,
   "id": "unauthorized-wonder",
   "metadata": {},
   "outputs": [],
   "source": [
    "#I am chossing cv=10 because, without duplicates, the amount of metastazed patients are 12% and 88% are metastazed free \n",
    "#This way, I ensure there is always representation for metastazed patients.\n",
    "def validate(param_name, param_range, cv=5):\n",
    "    train_scoreNum, test_scoreNum = validation_curve(\n",
    "                                RandomForestClassifier(),\n",
    "                                X = X_train, y = y_train, \n",
    "                                param_name = param_name, \n",
    "                                param_range = param_range, cv = cv)\n",
    "    return train_scoreNum, test_scoreNum"
   ]
  },
  {
   "cell_type": "code",
   "execution_count": 12,
   "id": "active-tension",
   "metadata": {},
   "outputs": [],
   "source": [
    "def plot_param(train_scoreNum, test_scoreNum):\n",
    "    train_scoreNum = train_scoreNum * 100\n",
    "    test_scoreNum = test_scoreNum * 100\n",
    "    train_scores_mean = np.mean(train_scoreNum, axis=1)\n",
    "    train_scores_std = np.std(train_scoreNum, axis=1)\n",
    "    test_scores_mean = np.mean(test_scoreNum, axis=1)\n",
    "    test_scores_std = np.std(test_scoreNum, axis=1)\n",
    "\n",
    "    plt.title(\"Validation Curve with RandomForestClassifier\")\n",
    "    plt.xlabel(param_name)\n",
    "    plt.ylabel(\"Accuracy Score %\")\n",
    "    plt.ylim(test_scoreNum.min(), train_scoreNum.max())\n",
    "    lw = 1\n",
    "    plt.semilogx(param_range, train_scores_mean, label=\"Training score\", color=\"darkorange\")\n",
    "    plt.fill_between(param_range, train_scores_mean - train_scores_std,\n",
    "                 train_scores_mean + train_scores_std, alpha=0.2,\n",
    "                 color=\"darkorange\")\n",
    "    plt.semilogx(param_range, test_scores_mean, label=\"Cross-validation score\", color=\"navy\")\n",
    "    plt.fill_between(param_range, test_scores_mean - test_scores_std,\n",
    "                 test_scores_mean + test_scores_std, alpha=0.2,\n",
    "                 color=\"navy\")\n",
    "    plt.legend(loc=\"best\")\n",
    "    plt.rcParams[\"figure.figsize\"] = (20,5)\n",
    "    plt.grid(axis='both')\n",
    "    plt.show()"
   ]
  },
  {
   "cell_type": "code",
   "execution_count": 13,
   "id": "pretty-appliance",
   "metadata": {},
   "outputs": [],
   "source": [
    "def print_scores(scores, range):\n",
    "    #print(\"     cv=1       cv=2       cv=3       cv=4       cv=5\")\n",
    "    for row in zip(scores, range):\n",
    "        print(row[1], row[0].mean())"
   ]
  },
  {
   "cell_type": "markdown",
   "id": "honey-supervisor",
   "metadata": {},
   "source": [
    "##### class_weight"
   ]
  },
  {
   "cell_type": "code",
   "execution_count": 14,
   "id": "foreign-belgium",
   "metadata": {},
   "outputs": [
    {
     "name": "stdout",
     "output_type": "stream",
     "text": [
      "train_scoreNum\n",
      "{0: 0.04, 1: 0.96} 0.9737918215613384\n",
      "{0: 0.07999999999999999, 1: 0.92} 0.9802973977695167\n",
      "{0: 0.12, 1: 0.88} 0.9824349442379182\n",
      "{0: 0.15999999999999998, 1: 0.8400000000000001} 0.9836895910780669\n",
      "{0: 0.19999999999999998, 1: 0.8} 0.9845260223048328\n",
      "{0: 0.23999999999999996, 1: 0.76} 0.9848977695167287\n",
      "{0: 0.27999999999999997, 1: 0.72} 0.9851765799256504\n",
      "{0: 0.31999999999999995, 1: 0.68} 0.9851765799256504\n",
      "{0: 0.35999999999999993, 1: 0.6400000000000001} 0.9852230483271377\n",
      "{0: 0.3999999999999999, 1: 0.6000000000000001} 0.9852695167286246\n",
      "{0: 0.4399999999999999, 1: 0.56} 0.9852695167286246\n",
      "{0: 0.4799999999999999, 1: 0.52} 0.9852695167286246\n",
      "{0: 0.5199999999999999, 1: 0.4800000000000001} 0.9852695167286246\n",
      "{0: 0.5599999999999999, 1: 0.44000000000000006} 0.9851765799256507\n",
      "{0: 0.6, 1: 0.4} 0.9852230483271376\n",
      "{0: 0.6399999999999999, 1: 0.3600000000000001} 0.9852230483271376\n",
      "{0: 0.6799999999999999, 1: 0.32000000000000006} 0.9852230483271377\n",
      "{0: 0.72, 1: 0.28} 0.9851765799256504\n",
      "{0: 0.7599999999999999, 1: 0.2400000000000001} 0.9851301115241636\n",
      "{0: 0.7999999999999999, 1: 0.20000000000000007} 0.9851765799256504\n",
      "{0: 0.8399999999999999, 1: 0.16000000000000014} 0.9848977695167285\n",
      "{0: 0.8799999999999999, 1: 0.1200000000000001} 0.9848977695167287\n",
      "{0: 0.9199999999999999, 1: 0.08000000000000007} 0.9848048327137546\n",
      "{0: 0.96, 1: 0.040000000000000036} 0.9847583643122677\n",
      "test_scoreNum\n",
      "{0: 0.04, 1: 0.96} 0.8992565055762082\n",
      "{0: 0.07999999999999999, 1: 0.92} 0.9074349442379182\n",
      "{0: 0.12, 1: 0.88} 0.9104089219330854\n",
      "{0: 0.15999999999999998, 1: 0.8400000000000001} 0.9133828996282528\n",
      "{0: 0.19999999999999998, 1: 0.8} 0.9141263940520445\n",
      "{0: 0.23999999999999996, 1: 0.76} 0.9146840148698885\n",
      "{0: 0.27999999999999997, 1: 0.72} 0.9133828996282528\n",
      "{0: 0.31999999999999995, 1: 0.68} 0.9133828996282528\n",
      "{0: 0.35999999999999993, 1: 0.6400000000000001} 0.9141263940520445\n",
      "{0: 0.3999999999999999, 1: 0.6000000000000001} 0.9148698884758364\n",
      "{0: 0.4399999999999999, 1: 0.56} 0.9143122676579925\n",
      "{0: 0.4799999999999999, 1: 0.52} 0.9157992565055763\n",
      "{0: 0.5199999999999999, 1: 0.4800000000000001} 0.9148698884758364\n",
      "{0: 0.5599999999999999, 1: 0.44000000000000006} 0.9159851301115243\n",
      "{0: 0.6, 1: 0.4} 0.9167286245353161\n",
      "{0: 0.6399999999999999, 1: 0.3600000000000001} 0.9169144981412639\n",
      "{0: 0.6799999999999999, 1: 0.32000000000000006} 0.9167286245353161\n",
      "{0: 0.72, 1: 0.28} 0.9156133828996283\n",
      "{0: 0.7599999999999999, 1: 0.2400000000000001} 0.9171003717472118\n",
      "{0: 0.7999999999999999, 1: 0.20000000000000007} 0.9159851301115243\n",
      "{0: 0.8399999999999999, 1: 0.16000000000000014} 0.9148698884758364\n",
      "{0: 0.8799999999999999, 1: 0.1200000000000001} 0.9163568773234202\n",
      "{0: 0.9199999999999999, 1: 0.08000000000000007} 0.9157992565055763\n",
      "{0: 0.96, 1: 0.040000000000000036} 0.9157992565055763\n"
     ]
    }
   ],
   "source": [
    "param_name = 'class_weight'\n",
    "weights = np.linspace(0.04, 0.96, 24)\n",
    "param_range = [{0: x, 1: 1.0-x} for x in weights]\n",
    "\n",
    "train_scoreNum, test_scoreNum = validate(param_name, param_range)\n",
    "print(\"train_scoreNum\")\n",
    "print_scores(train_scoreNum, param_range)\n",
    "print(\"test_scoreNum\")\n",
    "print_scores(test_scoreNum, param_range)"
   ]
  },
  {
   "cell_type": "code",
   "execution_count": 15,
   "id": "cubic-retro",
   "metadata": {},
   "outputs": [],
   "source": [
    "#Adding the parameter to the dictionary\n",
    "#random_grid['class_weight'] = [{0: 0.04, 1: 0.96}, {0: 0.08, 1: 0.92},{0: 0.12, 1: 0.88},{0: 0.20, 1: 0.80}]\n",
    "#random_grid['class_weight'] = [{0: 0.04, 1: 0.96}, {0: 0.08, 1: 0.92}]\n",
    "random_grid['class_weight'] = [{0: 0.08, 1: 0.92}]"
   ]
  },
  {
   "cell_type": "markdown",
   "id": "maritime-syntax",
   "metadata": {},
   "source": [
    "##### criterion"
   ]
  },
  {
   "cell_type": "code",
   "execution_count": 16,
   "id": "fourth-finance",
   "metadata": {},
   "outputs": [
    {
     "name": "stdout",
     "output_type": "stream",
     "text": [
      "train_scoreNum\n",
      "gini 0.9852230483271376\n",
      "entropy 0.9852695167286246\n",
      "test_scoreNum\n",
      "gini 0.91635687732342\n",
      "entropy 0.91635687732342\n"
     ]
    }
   ],
   "source": [
    "param_name = 'criterion'\n",
    "param_range = ['gini','entropy']\n",
    "\n",
    "train_scoreNum, test_scoreNum = validate(param_name, param_range)\n",
    "print(\"train_scoreNum\")\n",
    "print_scores(train_scoreNum, param_range)\n",
    "print(\"test_scoreNum\")\n",
    "print_scores(test_scoreNum, param_range)\n",
    "#plot_param(train_scoreNum, test_scoreNum)"
   ]
  },
  {
   "cell_type": "code",
   "execution_count": 17,
   "id": "entertaining-bundle",
   "metadata": {},
   "outputs": [],
   "source": [
    "#Adding the parameter to the dictionary\n",
    "random_grid['criterion'] = ['entropy']"
   ]
  },
  {
   "cell_type": "markdown",
   "id": "fabulous-savannah",
   "metadata": {},
   "source": [
    "##### max_depth"
   ]
  },
  {
   "cell_type": "code",
   "execution_count": 18,
   "id": "korean-cleaners",
   "metadata": {},
   "outputs": [
    {
     "name": "stdout",
     "output_type": "stream",
     "text": [
      "train_scoreNum\n",
      "1 0.9208178438661709\n",
      "2 0.9208178438661709\n",
      "3 0.9208178438661709\n",
      "4 0.9211431226765798\n",
      "5 0.9228624535315983\n",
      "6 0.9253252788104088\n",
      "7 0.9289498141263941\n",
      "8 0.9345724907063196\n",
      "9 0.9401486988847584\n",
      "10 0.9479553903345724\n",
      "11 0.9561338289962826\n",
      "12 0.962871747211896\n",
      "13 0.9689591078066915\n",
      "14 0.9751858736059479\n",
      "15 0.979042750929368\n",
      "16 0.9816914498141264\n",
      "17 0.9835037174721188\n",
      "18 0.9848977695167287\n",
      "19 0.9849907063197026\n",
      "20 0.9851765799256504\n",
      "21 0.9852695167286246\n",
      "22 0.9852695167286246\n",
      "23 0.9852695167286246\n",
      "24 0.9852230483271376\n",
      "25 0.9851765799256504\n",
      "26 0.9852695167286246\n",
      "27 0.9852695167286246\n",
      "test_scoreNum\n",
      "1 0.9208178438661709\n",
      "2 0.9208178438661709\n",
      "3 0.9208178438661709\n",
      "4 0.9208178438661709\n",
      "5 0.9208178438661709\n",
      "6 0.9215613382899628\n",
      "7 0.9224907063197026\n",
      "8 0.9226765799256507\n",
      "9 0.9234200743494425\n",
      "10 0.9230483271375466\n",
      "11 0.9230483271375464\n",
      "12 0.9239776951672862\n",
      "13 0.9213754646840149\n",
      "14 0.9204460966542751\n",
      "15 0.9198884758364313\n",
      "16 0.9193308550185874\n",
      "17 0.916542750929368\n",
      "18 0.9169144981412639\n",
      "19 0.9152416356877324\n",
      "20 0.9178438661710038\n",
      "21 0.9169144981412639\n",
      "22 0.916542750929368\n",
      "23 0.9172862453531598\n",
      "24 0.9169144981412639\n",
      "25 0.9178438661710038\n",
      "26 0.9156133828996283\n",
      "27 0.9161710037174722\n"
     ]
    },
    {
     "data": {
      "image/png": "[encoded data removed]",
      "text/plain": [
       "<Figure size 432x288 with 1 Axes>"
      ]
     },
     "metadata": {
      "needs_background": "light"
     },
     "output_type": "display_data"
    }
   ],
   "source": [
    "param_name = 'max_depth'\n",
    "param_range = [int(x) for x in np.linspace(1, 27, num = 27)]\n",
    "\n",
    "train_scoreNum, test_scoreNum = validate(param_name, param_range)\n",
    "print(\"train_scoreNum\")\n",
    "print_scores(train_scoreNum, param_range)\n",
    "print(\"test_scoreNum\")\n",
    "print_scores(test_scoreNum, param_range)\n",
    "#param_range = param_range[:-1]\n",
    "plot_param(train_scoreNum, test_scoreNum)"
   ]
  },
  {
   "cell_type": "code",
   "execution_count": 19,
   "id": "retained-refund",
   "metadata": {},
   "outputs": [],
   "source": [
    "#Adding the parameter to the dictionary\n",
    "random_grid['max_depth'] = [1, 2, 3, 4, 5, 6, 7, 8, 9, 10, 11, 12, 13, 14, 15]"
   ]
  },
  {
   "cell_type": "markdown",
   "id": "processed-sampling",
   "metadata": {},
   "source": [
    "##### min_samples_leaf"
   ]
  },
  {
   "cell_type": "code",
   "execution_count": 20,
   "id": "gorgeous-scratch",
   "metadata": {},
   "outputs": [
    {
     "name": "stdout",
     "output_type": "stream",
     "text": [
      "train_scoreNum\n",
      "1 0.9852695167286246\n",
      "2 0.9390334572490706\n",
      "3 0.9304368029739777\n",
      "4 0.9268122676579924\n",
      "5 0.9239776951672862\n",
      "6 0.9227695167286246\n",
      "7 0.9222583643122677\n",
      "test_scoreNum\n",
      "1 0.9161710037174722\n",
      "2 0.9232342007434944\n",
      "3 0.9224907063197026\n",
      "4 0.9219330855018587\n",
      "5 0.9210037174721191\n",
      "6 0.9208178438661709\n",
      "7 0.9204460966542751\n"
     ]
    },
    {
     "data": {
      "image/png": "[encoded data removed]",
      "text/plain": [
       "<Figure size 1440x360 with 1 Axes>"
      ]
     },
     "metadata": {
      "needs_background": "light"
     },
     "output_type": "display_data"
    }
   ],
   "source": [
    "param_name = 'min_samples_leaf'\n",
    "param_range = [1, 2, 3, 4, 5, 6, 7]\n",
    "\n",
    "train_scoreNum, test_scoreNum = validate(param_name, param_range)\n",
    "print(\"train_scoreNum\")\n",
    "print_scores(train_scoreNum, param_range)\n",
    "print(\"test_scoreNum\")\n",
    "print_scores(test_scoreNum, param_range)\n",
    "plot_param(train_scoreNum, test_scoreNum)"
   ]
  },
  {
   "cell_type": "code",
   "execution_count": 21,
   "id": "decent-dragon",
   "metadata": {},
   "outputs": [],
   "source": [
    "#Adding the parameter to the dictionary\n",
    "random_grid['min_samples_leaf'] = [1, 2]"
   ]
  },
  {
   "cell_type": "markdown",
   "id": "continental-chambers",
   "metadata": {},
   "source": [
    "##### min_samples_split"
   ]
  },
  {
   "cell_type": "code",
   "execution_count": 22,
   "id": "dutch-communications",
   "metadata": {},
   "outputs": [
    {
     "name": "stdout",
     "output_type": "stream",
     "text": [
      "train_scoreNum\n",
      "2 0.9852695167286246\n",
      "3 0.9749535315985132\n",
      "4 0.9604089219330856\n",
      "5 0.9522769516728624\n",
      "6 0.9484200743494424\n",
      "8 0.9408921933085501\n",
      "10 0.9360594795539035\n",
      "test_scoreNum\n",
      "2 0.916542750929368\n",
      "3 0.9180297397769517\n",
      "4 0.9219330855018587\n",
      "5 0.9228624535315986\n",
      "6 0.9230483271375466\n",
      "8 0.9224907063197026\n",
      "10 0.9223048327137547\n"
     ]
    },
    {
     "data": {
      "image/png": "[encoded data removed]",
      "text/plain": [
       "<Figure size 1440x360 with 1 Axes>"
      ]
     },
     "metadata": {
      "needs_background": "light"
     },
     "output_type": "display_data"
    }
   ],
   "source": [
    "param_name = 'min_samples_split'\n",
    "param_range = [2, 3, 4, 5, 6, 8, 10]\n",
    "\n",
    "train_scoreNum, test_scoreNum = validate(param_name, param_range)\n",
    "print(\"train_scoreNum\")\n",
    "print_scores(train_scoreNum, param_range)\n",
    "print(\"test_scoreNum\")\n",
    "print_scores(test_scoreNum, param_range)\n",
    "plot_param(train_scoreNum, test_scoreNum)"
   ]
  },
  {
   "cell_type": "code",
   "execution_count": 23,
   "id": "metric-processing",
   "metadata": {},
   "outputs": [],
   "source": [
    "#Adding the parameter to the dictionary\n",
    "random_grid['min_samples_split'] = [2, 3]"
   ]
  },
  {
   "cell_type": "markdown",
   "id": "solar-bowling",
   "metadata": {},
   "source": [
    "##### n_estimators"
   ]
  },
  {
   "cell_type": "code",
   "execution_count": 24,
   "id": "velvet-brief",
   "metadata": {},
   "outputs": [
    {
     "name": "stdout",
     "output_type": "stream",
     "text": [
      "train_scoreNum\n",
      "10 0.9768122676579925\n",
      "50 0.9849442379182156\n",
      "100 0.9852230483271376\n",
      "200 0.9852695167286246\n",
      "250 0.9852695167286246\n",
      "300 0.9852695167286246\n",
      "350 0.9852695167286246\n",
      "400 0.9852695167286246\n",
      "450 0.9852695167286246\n",
      "500 0.9852695167286246\n",
      "550 0.9852695167286246\n",
      "600 0.9852695167286246\n",
      "650 0.9852695167286246\n",
      "700 0.9852695167286246\n",
      "750 0.9852695167286246\n",
      "800 0.9852695167286246\n",
      "850 0.9852695167286246\n",
      "900 0.9852695167286246\n",
      "950 0.9852695167286246\n",
      "1000 0.9852695167286246\n",
      "test_scoreNum\n",
      "10 0.912081784386617\n",
      "50 0.9156133828996282\n",
      "100 0.9159851301115243\n",
      "200 0.9171003717472119\n",
      "250 0.916542750929368\n",
      "300 0.9169144981412639\n",
      "350 0.9174721189591079\n",
      "400 0.9174721189591079\n",
      "450 0.9174721189591079\n",
      "500 0.9171003717472118\n",
      "550 0.9171003717472119\n",
      "600 0.9161710037174722\n",
      "650 0.9182156133828997\n",
      "700 0.9174721189591079\n",
      "750 0.9169144981412639\n",
      "800 0.9171003717472119\n",
      "850 0.9174721189591079\n",
      "900 0.9163568773234202\n",
      "950 0.9171003717472118\n",
      "1000 0.9172862453531598\n"
     ]
    },
    {
     "data": {
      "image/png": "[encoded data removed]",
      "text/plain": [
       "<Figure size 1440x360 with 1 Axes>"
      ]
     },
     "metadata": {
      "needs_background": "light"
     },
     "output_type": "display_data"
    }
   ],
   "source": [
    "param_name = 'n_estimators'\n",
    "param_range = [10, 50, 100, 200, 250, 300, 350, 400, 450, 500, 550, 600, 650, 700, 750, 800, 850, 900, 950, 1000]\n",
    "\n",
    "train_scoreNum, test_scoreNum = validate(param_name, param_range)\n",
    "print(\"train_scoreNum\")\n",
    "print_scores(train_scoreNum, param_range)\n",
    "print(\"test_scoreNum\")\n",
    "print_scores(test_scoreNum, param_range)\n",
    "plot_param(train_scoreNum, test_scoreNum)"
   ]
  },
  {
   "cell_type": "code",
   "execution_count": 25,
   "id": "sorted-dinner",
   "metadata": {},
   "outputs": [],
   "source": [
    "#Adding the parameter to the dictionary\n",
    "random_grid['n_estimators'] = [250]"
   ]
  },
  {
   "cell_type": "markdown",
   "id": "smart-scanner",
   "metadata": {},
   "source": [
    "### Setup the GridSearchCV"
   ]
  },
  {
   "cell_type": "code",
   "execution_count": 26,
   "id": "large-manhattan",
   "metadata": {},
   "outputs": [
    {
     "name": "stdout",
     "output_type": "stream",
     "text": [
      "{'class_weight': [{0: 0.08, 1: 0.92}],\n",
      " 'criterion': ['entropy'],\n",
      " 'max_depth': [1, 2, 3, 4, 5, 6, 7, 8, 9, 10, 11, 12, 13, 14, 15],\n",
      " 'min_samples_leaf': [1, 2],\n",
      " 'min_samples_split': [2, 3],\n",
      " 'n_estimators': [250]}\n"
     ]
    }
   ],
   "source": [
    "# These are the parameters to test\n",
    "pprint(random_grid)"
   ]
  },
  {
   "cell_type": "code",
   "execution_count": 27,
   "id": "working-rachel",
   "metadata": {},
   "outputs": [],
   "source": [
    "from sklearn.metrics import make_scorer, accuracy_score, recall_score\n",
    "scorer = make_scorer(f1_score, pos_label=1)\n",
    "clf_cv = GridSearchCV(clf, random_grid, cv=5, scoring=scorer)\n",
    "clf_cv.fit(X_train, y_train)\n",
    "# Predict the labels of the test set: y_pred\n",
    "y_pred = clf_cv.predict(X_test)"
   ]
  },
  {
   "cell_type": "code",
   "execution_count": 28,
   "id": "monthly-narrow",
   "metadata": {},
   "outputs": [
    {
     "name": "stdout",
     "output_type": "stream",
     "text": [
      "Tuned Random Forest Parameter: {'class_weight': {0: 0.08, 1: 0.92}, 'criterion': 'entropy', 'max_depth': 9, 'min_samples_leaf': 2, 'min_samples_split': 2, 'n_estimators': 250}\n",
      "Tuned Random Forest Accuracy: 0.34074596897206344\n",
      "Classification report\n",
      "              precision    recall  f1-score   support\n",
      "\n",
      "           0       0.96      0.86      0.91      1239\n",
      "           1       0.25      0.55      0.35       107\n",
      "\n",
      "    accuracy                           0.83      1346\n",
      "   macro avg       0.60      0.71      0.63      1346\n",
      "weighted avg       0.90      0.83      0.86      1346\n",
      "\n",
      "Confusion Matrix\n",
      "[[1064  175]\n",
      " [  48   59]]\n"
     ]
    }
   ],
   "source": [
    "print(\"Tuned Random Forest Parameter: {}\".format(clf_cv.best_params_))\n",
    "print(\"Tuned Random Forest Accuracy: {}\".format(clf_cv.best_score_))\n",
    "#print(\"Accuracy: {}\".format(clf_cv.score(X_test, y_test)))\n",
    "print(\"Classification report\")\n",
    "print(classification_report(y_test, y_pred))\n",
    "print(\"Confusion Matrix\")\n",
    "print(confusion_matrix(y_test, y_pred))"
   ]
  },
  {
   "cell_type": "code",
   "execution_count": 29,
   "id": "friendly-belgium",
   "metadata": {},
   "outputs": [
    {
     "data": {
      "image/png": "[encoded data removed]",
      "text/plain": [
       "<Figure size 720x720 with 1 Axes>"
      ]
     },
     "metadata": {
      "needs_background": "light"
     },
     "output_type": "display_data"
    }
   ],
   "source": [
    "#Plot feature importances\n",
    "feature_importance = clf.feature_importances_\n",
    "# make importances relative to max importance\n",
    "feature_importance = 100.0 * (feature_importance / feature_importance.max())\n",
    "sorted_idx = np.argsort(feature_importance)\n",
    "\n",
    "pos = np.arange(sorted_idx.shape[0]) + .5\n",
    "sorted_idx.size\n",
    "plt.figure(figsize=(10,10))\n",
    "plt.barh(pos, feature_importance[sorted_idx], align='center')\n",
    "plt.yticks(pos, meta_df.columns[sorted_idx])\n",
    "plt.xlabel('Relative Importance')\n",
    "plt.title('Variable Importance')\n",
    "plt.show()"
   ]
  },
  {
   "cell_type": "code",
   "execution_count": null,
   "id": "played-static",
   "metadata": {},
   "outputs": [],
   "source": []
  }
 ],
 "metadata": {
  "kernelspec": {
   "display_name": "Python 3",
   "language": "python",
   "name": "python3"
  },
  "language_info": {
   "codemirror_mode": {
    "name": "ipython",
    "version": 3
   },
   "file_extension": ".py",
   "mimetype": "text/x-python",
   "name": "python",
   "nbconvert_exporter": "python",
   "pygments_lexer": "ipython3",
   "version": "3.6.6"
  }
 },
 "nbformat": 4,
 "nbformat_minor": 5
}
