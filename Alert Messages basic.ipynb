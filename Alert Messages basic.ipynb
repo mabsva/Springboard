{
 "cells": [
  {
   "cell_type": "markdown",
   "metadata": {},
   "source": [
    "The Product & Technology team (P&T) at OfficeDepot, has a B2B system called webMethods. This system works 24/7 receving and sending transactions with external customers/vendors around the world. \n",
    "\n",
    "During the weekend of April 24th, there was a maintenance in some other servers not controled by the P&T team, which caused the webMethods applications not to be able to connect to the database. All transactions not processed by webMethods, were pilling up, and after the weekend, all of them had to be resubmitted.\n",
    "\n",
    "Management wants to find a way to implement some sort of notification in case there is a sudden spike on errors, even during the weekend."
   ]
  },
  {
   "cell_type": "code",
   "execution_count": 1,
   "metadata": {
    "hide_input": true
   },
   "outputs": [],
   "source": [
    "#Import section\n",
    "from datetime import date\n",
    "import os\n",
    "import pandas as pd\n",
    "import matplotlib.ticker as ticker\n",
    "from sklearn.feature_extraction.text import CountVectorizer\n",
    "from sklearn.metrics.pairwise import cosine_similarity\n",
    "import numpy as np\n",
    "import matplotlib.pyplot as plt\n",
    "import datetime\n",
    "#import seaborn as sns\n",
    "\n",
    "%matplotlib inline"
   ]
  },
  {
   "cell_type": "markdown",
   "metadata": {},
   "source": [
    "This is the log file produced by webMethods server during that weekend"
   ]
  },
  {
   "cell_type": "code",
   "execution_count": 2,
   "metadata": {},
   "outputs": [],
   "source": [
    "#File to process\n",
    "logs_dir = 'chib2bprdcst06 Logs 25 & 26 April 2021/'\n",
    "files_name = 'WMERROR_20210425_055521.log'\n",
    "\n",
    "#logs_dir = 'From TEST/'\n",
    "#files_name = 'WMERROR_20210601_000007.log'"
   ]
  },
  {
   "cell_type": "code",
   "execution_count": 3,
   "metadata": {
    "hide_input": true
   },
   "outputs": [],
   "source": [
    "#Reading the file into a list of array of error messages\n",
    "error_messages = []\n",
    "array_error = []\n",
    "with open((logs_dir+files_name),'r') as fp:\n",
    "    fileline = fp.readline()\n",
    "    while fileline:\n",
    "        if fileline.startswith(\"WMERROR\"):\n",
    "            error_messages.append(array_error)\n",
    "            array_error = []\n",
    "            array_error.append(fileline)\n",
    "        else:\n",
    "            array_error.append(fileline)\n",
    "        fileline = fp.readline()\n",
    "    error_messages.append(array_error)\n",
    "if error_messages[0] == []:\n",
    "    error_messages.pop(0)"
   ]
  },
  {
   "cell_type": "code",
   "execution_count": 4,
   "metadata": {
    "hide_input": true
   },
   "outputs": [],
   "source": [
    "#Transforming the array of error messages into a DataFrame\n",
    "cols = ['Type','Root Context','FieldNull','Parent Context','Current Context','ServerId','Timestamp1','Timestamp2','error_message','ServiceName','ServiceStack']\n",
    "logs_df = pd.DataFrame(columns = cols)\n",
    "\n",
    "for error in error_messages:\n",
    "    row_cols = []\n",
    "    for i, row in enumerate(error):\n",
    "        if(i == 0):\n",
    "            row_cols = row.split(None, 8)\n",
    "        else:\n",
    "            #This is the last line of the error\n",
    "            if(i == len(error) - 1):\n",
    "                row_cols[8] = row_cols[8] + row\n",
    "                truncatedIndex = row_cols[8].find('...<truncated>',len(row_cols[8])//2)\n",
    "                if(truncatedIndex >= 0):\n",
    "                    truncatedIndex = truncatedIndex + 14\n",
    "                    last2col = row_cols[8][truncatedIndex:].split(None, 1)\n",
    "                    row_cols[8] = row_cols[8][:truncatedIndex]\n",
    "                    row_cols = row_cols + last2col\n",
    "                else:\n",
    "                    last2col = row.rsplit(None, 2)\n",
    "                    row_cols = row_cols + last2col[-2:]\n",
    "            else:\n",
    "                row_cols[8] = row_cols[8] + row\n",
    "    logs_df.loc[len(logs_df)] = row_cols"
   ]
  },
  {
   "cell_type": "markdown",
   "metadata": {},
   "source": [
    "This is the content of the file.\n",
    "\n",
    "The errors started on April 25 at 9:55 am, and continued after midnight."
   ]
  },
  {
   "cell_type": "code",
   "execution_count": 5,
   "metadata": {
    "hide_input": true
   },
   "outputs": [
    {
     "data": {
      "text/html": [
       "<div>\n",
       "<style scoped>\n",
       "    .dataframe tbody tr th:only-of-type {\n",
       "        vertical-align: middle;\n",
       "    }\n",
       "\n",
       "    .dataframe tbody tr th {\n",
       "        vertical-align: top;\n",
       "    }\n",
       "\n",
       "    .dataframe thead th {\n",
       "        text-align: right;\n",
       "    }\n",
       "</style>\n",
       "<table border=\"1\" class=\"dataframe\">\n",
       "  <thead>\n",
       "    <tr style=\"text-align: right;\">\n",
       "      <th></th>\n",
       "      <th>Type</th>\n",
       "      <th>Root Context</th>\n",
       "      <th>FieldNull</th>\n",
       "      <th>Parent Context</th>\n",
       "      <th>ServerId</th>\n",
       "      <th>Timestamp1</th>\n",
       "      <th>Timestamp2</th>\n",
       "      <th>error_message</th>\n",
       "      <th>ServiceName</th>\n",
       "      <th>ServiceStack</th>\n",
       "    </tr>\n",
       "    <tr>\n",
       "      <th>Current Context</th>\n",
       "      <th></th>\n",
       "      <th></th>\n",
       "      <th></th>\n",
       "      <th></th>\n",
       "      <th></th>\n",
       "      <th></th>\n",
       "      <th></th>\n",
       "      <th></th>\n",
       "      <th></th>\n",
       "      <th></th>\n",
       "    </tr>\n",
       "  </thead>\n",
       "  <tbody>\n",
       "    <tr>\n",
       "      <th>528f8830-2472-28b1-132e-35798d5a5ac7</th>\n",
       "      <td>WMERROR</td>\n",
       "      <td>a77dd991-ce10-4576-9112-69cd24fb5ea1</td>\n",
       "      <td>\u0000</td>\n",
       "      <td>a77dd991-ce10-4576-9112-69cd24fb5ea1</td>\n",
       "      <td>Chib2bprdcst06.uschecom.net:5080</td>\n",
       "      <td>2021-04-25 09:55:20.926000+00:00</td>\n",
       "      <td>2021-04-25 09:55:21.473000+00:00</td>\n",
       "      <td>[ISS.0098.9006] No matching Document Type exis...</td>\n",
       "      <td>\u0000</td>\n",
       "      <td>\u0000</td>\n",
       "    </tr>\n",
       "    <tr>\n",
       "      <th>52e12b83-f71d-51e9-7542-8d2c096ee314</th>\n",
       "      <td>WMERROR</td>\n",
       "      <td>7ae35f59-64ac-43b8-8972-810c9b8ed4fd</td>\n",
       "      <td>\u0000</td>\n",
       "      <td>7ae35f59-64ac-43b8-8972-810c9b8ed4fd</td>\n",
       "      <td>Chib2bprdcst06.uschecom.net:5080</td>\n",
       "      <td>2021-04-25 09:55:20.926000+00:00</td>\n",
       "      <td>2021-04-25 09:55:21.489000+00:00</td>\n",
       "      <td>[ISS.0098.9006] No matching Document Type exis...</td>\n",
       "      <td>\u0000</td>\n",
       "      <td>\u0000</td>\n",
       "    </tr>\n",
       "    <tr>\n",
       "      <th>f15b1684-dde2-f0f2-c968-15f1cf9389f3</th>\n",
       "      <td>WMERROR</td>\n",
       "      <td>16996f2b-1875-45fc-9736-dbff04c94008</td>\n",
       "      <td>\u0000</td>\n",
       "      <td>16996f2b-1875-45fc-9736-dbff04c94008</td>\n",
       "      <td>Chib2bprdcst06.uschecom.net:5080</td>\n",
       "      <td>2021-04-25 10:03:53.345000+00:00</td>\n",
       "      <td>2021-04-25 10:03:53.728000+00:00</td>\n",
       "      <td>Trading Networks could not retrieve data from ...</td>\n",
       "      <td>wm.tn.admin:startup</td>\n",
       "      <td>\u0000</td>\n",
       "    </tr>\n",
       "    <tr>\n",
       "      <th>943f3a61-a33e-bba9-df59-a76d5186b74c</th>\n",
       "      <td>WMERROR</td>\n",
       "      <td>68f0653e-c6fd-4649-8e79-88889502eef6</td>\n",
       "      <td>\u0000</td>\n",
       "      <td>68f0653e-c6fd-4649-8e79-88889502eef6</td>\n",
       "      <td>Chib2bprdcst06.uschecom.net:5080</td>\n",
       "      <td>2021-04-25 10:03:57.404000+00:00</td>\n",
       "      <td>2021-04-25 10:03:57.734000+00:00</td>\n",
       "      <td>&lt;EXMLException&gt;\\n   &lt;ErrorCode&gt;&lt;/ErrorCode&gt;\\n ...</td>\n",
       "      <td>wm.tn.docattr:add</td>\n",
       "      <td>wm.tn.docattr:add                             ...</td>\n",
       "    </tr>\n",
       "    <tr>\n",
       "      <th>ea62f677-1696-c12d-471c-7e78a0220e24</th>\n",
       "      <td>WMERROR</td>\n",
       "      <td>332402d4-42fd-4396-81d0-890ceaa3200f</td>\n",
       "      <td>\u0000</td>\n",
       "      <td>332402d4-42fd-4396-81d0-890ceaa3200f</td>\n",
       "      <td>Chib2bprdcst06.uschecom.net:5080</td>\n",
       "      <td>2021-04-25 10:03:57.405000+00:00</td>\n",
       "      <td>2021-04-25 10:03:57.734000+00:00</td>\n",
       "      <td>&lt;EXMLException&gt;\\n   &lt;ErrorCode&gt;&lt;/ErrorCode&gt;\\n ...</td>\n",
       "      <td>wm.EDIINT.util:init</td>\n",
       "      <td>wm.tn.docattr:add\\nwm.EDIINT.util:init        ...</td>\n",
       "    </tr>\n",
       "  </tbody>\n",
       "</table>\n",
       "</div>"
      ],
      "text/plain": [
       "                                         Type  \\\n",
       "Current Context                                 \n",
       "528f8830-2472-28b1-132e-35798d5a5ac7  WMERROR   \n",
       "52e12b83-f71d-51e9-7542-8d2c096ee314  WMERROR   \n",
       "f15b1684-dde2-f0f2-c968-15f1cf9389f3  WMERROR   \n",
       "943f3a61-a33e-bba9-df59-a76d5186b74c  WMERROR   \n",
       "ea62f677-1696-c12d-471c-7e78a0220e24  WMERROR   \n",
       "\n",
       "                                                              Root Context  \\\n",
       "Current Context                                                              \n",
       "528f8830-2472-28b1-132e-35798d5a5ac7  a77dd991-ce10-4576-9112-69cd24fb5ea1   \n",
       "52e12b83-f71d-51e9-7542-8d2c096ee314  7ae35f59-64ac-43b8-8972-810c9b8ed4fd   \n",
       "f15b1684-dde2-f0f2-c968-15f1cf9389f3  16996f2b-1875-45fc-9736-dbff04c94008   \n",
       "943f3a61-a33e-bba9-df59-a76d5186b74c  68f0653e-c6fd-4649-8e79-88889502eef6   \n",
       "ea62f677-1696-c12d-471c-7e78a0220e24  332402d4-42fd-4396-81d0-890ceaa3200f   \n",
       "\n",
       "                                     FieldNull  \\\n",
       "Current Context                                  \n",
       "528f8830-2472-28b1-132e-35798d5a5ac7         \u0000   \n",
       "52e12b83-f71d-51e9-7542-8d2c096ee314         \u0000   \n",
       "f15b1684-dde2-f0f2-c968-15f1cf9389f3         \u0000   \n",
       "943f3a61-a33e-bba9-df59-a76d5186b74c         \u0000   \n",
       "ea62f677-1696-c12d-471c-7e78a0220e24         \u0000   \n",
       "\n",
       "                                                            Parent Context  \\\n",
       "Current Context                                                              \n",
       "528f8830-2472-28b1-132e-35798d5a5ac7  a77dd991-ce10-4576-9112-69cd24fb5ea1   \n",
       "52e12b83-f71d-51e9-7542-8d2c096ee314  7ae35f59-64ac-43b8-8972-810c9b8ed4fd   \n",
       "f15b1684-dde2-f0f2-c968-15f1cf9389f3  16996f2b-1875-45fc-9736-dbff04c94008   \n",
       "943f3a61-a33e-bba9-df59-a76d5186b74c  68f0653e-c6fd-4649-8e79-88889502eef6   \n",
       "ea62f677-1696-c12d-471c-7e78a0220e24  332402d4-42fd-4396-81d0-890ceaa3200f   \n",
       "\n",
       "                                                              ServerId  \\\n",
       "Current Context                                                          \n",
       "528f8830-2472-28b1-132e-35798d5a5ac7  Chib2bprdcst06.uschecom.net:5080   \n",
       "52e12b83-f71d-51e9-7542-8d2c096ee314  Chib2bprdcst06.uschecom.net:5080   \n",
       "f15b1684-dde2-f0f2-c968-15f1cf9389f3  Chib2bprdcst06.uschecom.net:5080   \n",
       "943f3a61-a33e-bba9-df59-a76d5186b74c  Chib2bprdcst06.uschecom.net:5080   \n",
       "ea62f677-1696-c12d-471c-7e78a0220e24  Chib2bprdcst06.uschecom.net:5080   \n",
       "\n",
       "                                                           Timestamp1  \\\n",
       "Current Context                                                         \n",
       "528f8830-2472-28b1-132e-35798d5a5ac7 2021-04-25 09:55:20.926000+00:00   \n",
       "52e12b83-f71d-51e9-7542-8d2c096ee314 2021-04-25 09:55:20.926000+00:00   \n",
       "f15b1684-dde2-f0f2-c968-15f1cf9389f3 2021-04-25 10:03:53.345000+00:00   \n",
       "943f3a61-a33e-bba9-df59-a76d5186b74c 2021-04-25 10:03:57.404000+00:00   \n",
       "ea62f677-1696-c12d-471c-7e78a0220e24 2021-04-25 10:03:57.405000+00:00   \n",
       "\n",
       "                                                           Timestamp2  \\\n",
       "Current Context                                                         \n",
       "528f8830-2472-28b1-132e-35798d5a5ac7 2021-04-25 09:55:21.473000+00:00   \n",
       "52e12b83-f71d-51e9-7542-8d2c096ee314 2021-04-25 09:55:21.489000+00:00   \n",
       "f15b1684-dde2-f0f2-c968-15f1cf9389f3 2021-04-25 10:03:53.728000+00:00   \n",
       "943f3a61-a33e-bba9-df59-a76d5186b74c 2021-04-25 10:03:57.734000+00:00   \n",
       "ea62f677-1696-c12d-471c-7e78a0220e24 2021-04-25 10:03:57.734000+00:00   \n",
       "\n",
       "                                                                          error_message  \\\n",
       "Current Context                                                                           \n",
       "528f8830-2472-28b1-132e-35798d5a5ac7  [ISS.0098.9006] No matching Document Type exis...   \n",
       "52e12b83-f71d-51e9-7542-8d2c096ee314  [ISS.0098.9006] No matching Document Type exis...   \n",
       "f15b1684-dde2-f0f2-c968-15f1cf9389f3  Trading Networks could not retrieve data from ...   \n",
       "943f3a61-a33e-bba9-df59-a76d5186b74c  <EXMLException>\\n   <ErrorCode></ErrorCode>\\n ...   \n",
       "ea62f677-1696-c12d-471c-7e78a0220e24  <EXMLException>\\n   <ErrorCode></ErrorCode>\\n ...   \n",
       "\n",
       "                                              ServiceName  \\\n",
       "Current Context                                             \n",
       "528f8830-2472-28b1-132e-35798d5a5ac7                    \u0000   \n",
       "52e12b83-f71d-51e9-7542-8d2c096ee314                    \u0000   \n",
       "f15b1684-dde2-f0f2-c968-15f1cf9389f3  wm.tn.admin:startup   \n",
       "943f3a61-a33e-bba9-df59-a76d5186b74c    wm.tn.docattr:add   \n",
       "ea62f677-1696-c12d-471c-7e78a0220e24  wm.EDIINT.util:init   \n",
       "\n",
       "                                                                           ServiceStack  \n",
       "Current Context                                                                          \n",
       "528f8830-2472-28b1-132e-35798d5a5ac7                                                  \u0000  \n",
       "52e12b83-f71d-51e9-7542-8d2c096ee314                                                  \u0000  \n",
       "f15b1684-dde2-f0f2-c968-15f1cf9389f3                                                  \u0000  \n",
       "943f3a61-a33e-bba9-df59-a76d5186b74c  wm.tn.docattr:add                             ...  \n",
       "ea62f677-1696-c12d-471c-7e78a0220e24  wm.tn.docattr:add\\nwm.EDIINT.util:init        ...  "
      ]
     },
     "execution_count": 5,
     "metadata": {},
     "output_type": "execute_result"
    }
   ],
   "source": [
    "#Enhancing the dataframe content\n",
    "logs_df['Timestamp1'] = pd.to_datetime(logs_df['Timestamp1'])\n",
    "logs_df['Timestamp2'] = pd.to_datetime(logs_df['Timestamp2'])\n",
    "logs_df = logs_df.set_index('Current Context')\n",
    "logs_df.head()"
   ]
  },
  {
   "cell_type": "code",
   "execution_count": 6,
   "metadata": {},
   "outputs": [
    {
     "data": {
      "text/plain": [
       "(225, 10)"
      ]
     },
     "execution_count": 6,
     "metadata": {},
     "output_type": "execute_result"
    }
   ],
   "source": [
    "logs_df.shape"
   ]
  },
  {
   "cell_type": "code",
   "execution_count": 7,
   "metadata": {
    "hide_input": true
   },
   "outputs": [],
   "source": [
    "cv_support_df = logs_df[['Timestamp1','ServiceName']]"
   ]
  },
  {
   "cell_type": "code",
   "execution_count": 8,
   "metadata": {
    "hide_input": true
   },
   "outputs": [],
   "source": [
    "logs_df_by_hr = cv_support_df.groupby(cv_support_df['Timestamp1'].dt.ceil('H')).count()\n",
    "logs_df_by_hr = logs_df_by_hr.drop(columns=['Timestamp1'])\n",
    "logs_df_by_hr.columns = ['ErrorCountInHr']\n",
    "\n",
    "idx = pd.date_range(logs_df_by_hr.iloc[0].name, logs_df_by_hr.iloc[-1].name, freq=\"H\")\n",
    "logs_df_by_hr = logs_df_by_hr.reindex(idx, fill_value=0)"
   ]
  },
  {
   "cell_type": "markdown",
   "metadata": {},
   "source": [
    "In order to analize when we got a spike of errors worth sending an alert out, I am using the empirical rule of covering 95% of the cases under two standard deviations above the mean, and setting the alert if the errors goes above that threshold"
   ]
  },
  {
   "cell_type": "code",
   "execution_count": 9,
   "metadata": {
    "hide_input": true
   },
   "outputs": [
    {
     "data": {
      "text/html": [
       "<div>\n",
       "<style scoped>\n",
       "    .dataframe tbody tr th:only-of-type {\n",
       "        vertical-align: middle;\n",
       "    }\n",
       "\n",
       "    .dataframe tbody tr th {\n",
       "        vertical-align: top;\n",
       "    }\n",
       "\n",
       "    .dataframe thead th {\n",
       "        text-align: right;\n",
       "    }\n",
       "</style>\n",
       "<table border=\"1\" class=\"dataframe\">\n",
       "  <thead>\n",
       "    <tr style=\"text-align: right;\">\n",
       "      <th></th>\n",
       "      <th>index</th>\n",
       "      <th>ErrorCountInHr</th>\n",
       "      <th>mean</th>\n",
       "      <th>std</th>\n",
       "      <th>threshold</th>\n",
       "    </tr>\n",
       "  </thead>\n",
       "  <tbody>\n",
       "    <tr>\n",
       "      <th>0</th>\n",
       "      <td>2021-04-25 10:00:00+00:00</td>\n",
       "      <td>2</td>\n",
       "      <td>NaN</td>\n",
       "      <td>NaN</td>\n",
       "      <td>NaN</td>\n",
       "    </tr>\n",
       "    <tr>\n",
       "      <th>1</th>\n",
       "      <td>2021-04-25 11:00:00+00:00</td>\n",
       "      <td>10</td>\n",
       "      <td>6.0</td>\n",
       "      <td>5.656854</td>\n",
       "      <td>17.313708</td>\n",
       "    </tr>\n",
       "    <tr>\n",
       "      <th>2</th>\n",
       "      <td>2021-04-25 12:00:00+00:00</td>\n",
       "      <td>0</td>\n",
       "      <td>4.0</td>\n",
       "      <td>5.291503</td>\n",
       "      <td>14.583005</td>\n",
       "    </tr>\n",
       "    <tr>\n",
       "      <th>3</th>\n",
       "      <td>2021-04-25 13:00:00+00:00</td>\n",
       "      <td>0</td>\n",
       "      <td>3.0</td>\n",
       "      <td>4.760952</td>\n",
       "      <td>12.521905</td>\n",
       "    </tr>\n",
       "    <tr>\n",
       "      <th>4</th>\n",
       "      <td>2021-04-25 14:00:00+00:00</td>\n",
       "      <td>42</td>\n",
       "      <td>10.8</td>\n",
       "      <td>17.922053</td>\n",
       "      <td>46.644107</td>\n",
       "    </tr>\n",
       "  </tbody>\n",
       "</table>\n",
       "</div>"
      ],
      "text/plain": [
       "                      index  ErrorCountInHr  mean        std  threshold\n",
       "0 2021-04-25 10:00:00+00:00               2   NaN        NaN        NaN\n",
       "1 2021-04-25 11:00:00+00:00              10   6.0   5.656854  17.313708\n",
       "2 2021-04-25 12:00:00+00:00               0   4.0   5.291503  14.583005\n",
       "3 2021-04-25 13:00:00+00:00               0   3.0   4.760952  12.521905\n",
       "4 2021-04-25 14:00:00+00:00              42  10.8  17.922053  46.644107"
      ]
     },
     "execution_count": 9,
     "metadata": {},
     "output_type": "execute_result"
    }
   ],
   "source": [
    "logs_df_by_hr['mean'] = logs_df_by_hr['ErrorCountInHr'].expanding(2).mean()\n",
    "logs_df_by_hr['std'] = logs_df_by_hr['ErrorCountInHr'].expanding(2).std()\n",
    "logs_df_by_hr['threshold'] = logs_df_by_hr['ErrorCountInHr'].expanding(2).mean() + 2*logs_df_by_hr['ErrorCountInHr'].expanding(2).std()\n",
    "logs_df_by_hr = logs_df_by_hr.reset_index()\n",
    "logs_df_by_hr.head(5)"
   ]
  },
  {
   "cell_type": "code",
   "execution_count": 10,
   "metadata": {
    "hide_input": true
   },
   "outputs": [
    {
     "data": {
      "image/png": "[encoded data removed]",
      "text/plain": [
       "<Figure size 1296x360 with 1 Axes>"
      ]
     },
     "metadata": {
      "needs_background": "light"
     },
     "output_type": "display_data"
    }
   ],
   "source": [
    "#ax = logs_df_by_hr[['index','threshold']].plot(x='index', linestyle='-', marker='', color='orange')\n",
    "plt.rcParams[\"figure.figsize\"] = (18,5)\n",
    "ax = logs_df_by_hr[['index','ErrorCountInHr']].plot(x='index', alpha=0.8, color='blue')\n",
    "logs_df_by_hr[['index','threshold']].plot(x='index', linestyle='-', marker='.', color='red', ax=ax)\n",
    "plt.show()"
   ]
  },
  {
   "cell_type": "markdown",
   "metadata": {},
   "source": [
    "As we can see in the graph, there was a spike at hour 14th, but it was not worth asking someone to log in during the weekend, since the errors did not continue after that. But at midnight, we had another spike, which would have triggered the notification. Another notification would have been triggered at 2 am EST on April 26th. Most likely the people in India would have taken the alert and do some action."
   ]
  },
  {
   "cell_type": "code",
   "execution_count": null,
   "metadata": {},
   "outputs": [],
   "source": []
  }
 ],
 "metadata": {
  "kernelspec": {
   "display_name": "Python 3",
   "language": "python",
   "name": "python3"
  },
  "language_info": {
   "codemirror_mode": {
    "name": "ipython",
    "version": 3
   },
   "file_extension": ".py",
   "mimetype": "text/x-python",
   "name": "python",
   "nbconvert_exporter": "python",
   "pygments_lexer": "ipython3",
   "version": "3.8.5"
  }
 },
 "nbformat": 4,
 "nbformat_minor": 4
}
